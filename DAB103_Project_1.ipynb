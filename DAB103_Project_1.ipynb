{
 "cells": [
  {
   "cell_type": "code",
   "execution_count": 2,
   "metadata": {},
   "outputs": [],
   "source": [
    "import pandas as pd\n",
    "import matplotlib.pyplot as plt\n",
    "%matplotlib inline\n",
    "import numpy as np\n",
    "import os"
   ]
  },
  {
   "cell_type": "code",
   "execution_count": 34,
   "metadata": {},
   "outputs": [
    {
     "data": {
      "text/plain": [
       "'C:\\\\Users\\\\Murtuza'"
      ]
     },
     "execution_count": 34,
     "metadata": {},
     "output_type": "execute_result"
    }
   ],
   "source": [
    "os.getcwd()"
   ]
  },
  {
   "cell_type": "code",
   "execution_count": 36,
   "metadata": {},
   "outputs": [],
   "source": [
    "os.chdir('C:\\\\Users\\\\Murtuza')"
   ]
  },
  {
   "cell_type": "code",
   "execution_count": 37,
   "metadata": {},
   "outputs": [
    {
     "data": {
      "text/plain": [
       "'C:\\\\Users\\\\Murtuza'"
      ]
     },
     "execution_count": 37,
     "metadata": {},
     "output_type": "execute_result"
    }
   ],
   "source": [
    "os.getcwd()"
   ]
  },
  {
   "cell_type": "code",
   "execution_count": 38,
   "metadata": {},
   "outputs": [],
   "source": [
    "df1 = pd.read_csv('accidents due to drunken driving till 2018.csv')\n",
    "df2 = pd.read_csv('fund allocation for state roads and SH till 2018.csv')\n",
    "df3 = pd.read_csv('funds for national highway till 2019.csv')\n",
    "df4 = pd.read_csv('funds for NH maintainance till 2020.csv')\n",
    "df5 = pd.read_csv('NH projects under construction as on 31march 2019.csv', index_col = 0)\n",
    "df6 = pd.read_csv('persons killed in road accidents.csv', index_col=0)\n",
    "df7 = pd.read_csv('registered vehicles per 100km.csv')\n",
    "df8 = pd.read_csv('road_accidents_by_districts_2019_TN.csv')\n",
    "df9 = pd.read_csv('Road-Accidents on national highway-2015to 2018.csv')\n",
    "df10 = pd.read_csv('Road-Accidents-2015 to 2018.csv',index_col = 0)"
   ]
  },
  {
   "cell_type": "markdown",
   "metadata": {},
   "source": [
    "# ***1) Accidents due to drunken driving till 2018***"
   ]
  },
  {
   "cell_type": "code",
   "execution_count": 4,
   "metadata": {},
   "outputs": [
    {
     "data": {
      "text/plain": [
       "(37, 5)"
      ]
     },
     "execution_count": 4,
     "metadata": {},
     "output_type": "execute_result"
    }
   ],
   "source": [
    "df1.shape"
   ]
  },
  {
   "cell_type": "code",
   "execution_count": 12,
   "metadata": {},
   "outputs": [],
   "source": [
    "df1.index = df1.index + 1"
   ]
  },
  {
   "cell_type": "code",
   "execution_count": 13,
   "metadata": {},
   "outputs": [
    {
     "data": {
      "text/html": [
       "<div>\n",
       "<style scoped>\n",
       "    .dataframe tbody tr th:only-of-type {\n",
       "        vertical-align: middle;\n",
       "    }\n",
       "\n",
       "    .dataframe tbody tr th {\n",
       "        vertical-align: top;\n",
       "    }\n",
       "\n",
       "    .dataframe thead th {\n",
       "        text-align: right;\n",
       "    }\n",
       "</style>\n",
       "<table border=\"1\" class=\"dataframe\">\n",
       "  <thead>\n",
       "    <tr style=\"text-align: right;\">\n",
       "      <th></th>\n",
       "      <th>Sl.No</th>\n",
       "      <th>Region</th>\n",
       "      <th>drunk_drv16</th>\n",
       "      <th>drunk_drv17</th>\n",
       "      <th>drunk_drv18</th>\n",
       "    </tr>\n",
       "  </thead>\n",
       "  <tbody>\n",
       "    <tr>\n",
       "      <th>1</th>\n",
       "      <td>1</td>\n",
       "      <td>Andhra Pradesh</td>\n",
       "      <td>128</td>\n",
       "      <td>2064</td>\n",
       "      <td>1345</td>\n",
       "    </tr>\n",
       "    <tr>\n",
       "      <th>2</th>\n",
       "      <td>2</td>\n",
       "      <td>Arunachal Pradesh</td>\n",
       "      <td>15</td>\n",
       "      <td>19</td>\n",
       "      <td>55</td>\n",
       "    </tr>\n",
       "    <tr>\n",
       "      <th>3</th>\n",
       "      <td>3</td>\n",
       "      <td>Assam</td>\n",
       "      <td>352</td>\n",
       "      <td>373</td>\n",
       "      <td>377</td>\n",
       "    </tr>\n",
       "    <tr>\n",
       "      <th>4</th>\n",
       "      <td>4</td>\n",
       "      <td>Bihar</td>\n",
       "      <td>593</td>\n",
       "      <td>0</td>\n",
       "      <td>10</td>\n",
       "    </tr>\n",
       "    <tr>\n",
       "      <th>5</th>\n",
       "      <td>5</td>\n",
       "      <td>Chhattisgarh</td>\n",
       "      <td>145</td>\n",
       "      <td>86</td>\n",
       "      <td>216</td>\n",
       "    </tr>\n",
       "  </tbody>\n",
       "</table>\n",
       "</div>"
      ],
      "text/plain": [
       "  Sl.No             Region  drunk_drv16  drunk_drv17  drunk_drv18\n",
       "1     1     Andhra Pradesh          128         2064         1345\n",
       "2     2  Arunachal Pradesh           15           19           55\n",
       "3     3              Assam          352          373          377\n",
       "4     4              Bihar          593            0           10\n",
       "5     5       Chhattisgarh          145           86          216"
      ]
     },
     "execution_count": 13,
     "metadata": {},
     "output_type": "execute_result"
    }
   ],
   "source": [
    "df1 = df1.rename(columns = {'States/UTs':'Region', '2016':'drunk_drv16', '2017':'drunk_drv17', '2018':'drunk_drv18'})\n",
    "df1.head()"
   ]
  },
  {
   "cell_type": "code",
   "execution_count": 14,
   "metadata": {},
   "outputs": [
    {
     "data": {
      "text/html": [
       "<div>\n",
       "<style scoped>\n",
       "    .dataframe tbody tr th:only-of-type {\n",
       "        vertical-align: middle;\n",
       "    }\n",
       "\n",
       "    .dataframe tbody tr th {\n",
       "        vertical-align: top;\n",
       "    }\n",
       "\n",
       "    .dataframe thead th {\n",
       "        text-align: right;\n",
       "    }\n",
       "</style>\n",
       "<table border=\"1\" class=\"dataframe\">\n",
       "  <thead>\n",
       "    <tr style=\"text-align: right;\">\n",
       "      <th></th>\n",
       "      <th>Sl.No</th>\n",
       "      <th>Region</th>\n",
       "      <th>drunk_drv16</th>\n",
       "      <th>drunk_drv17</th>\n",
       "      <th>drunk_drv18</th>\n",
       "    </tr>\n",
       "  </thead>\n",
       "  <tbody>\n",
       "    <tr>\n",
       "      <th>33</th>\n",
       "      <td>33</td>\n",
       "      <td>Daman &amp; Diu</td>\n",
       "      <td>7</td>\n",
       "      <td>12</td>\n",
       "      <td>8</td>\n",
       "    </tr>\n",
       "    <tr>\n",
       "      <th>34</th>\n",
       "      <td>34</td>\n",
       "      <td>Delhi</td>\n",
       "      <td>164</td>\n",
       "      <td>124</td>\n",
       "      <td>333</td>\n",
       "    </tr>\n",
       "    <tr>\n",
       "      <th>35</th>\n",
       "      <td>35</td>\n",
       "      <td>Lakshadweep</td>\n",
       "      <td>0</td>\n",
       "      <td>0</td>\n",
       "      <td>0</td>\n",
       "    </tr>\n",
       "    <tr>\n",
       "      <th>36</th>\n",
       "      <td>36</td>\n",
       "      <td>Puducherry</td>\n",
       "      <td>82</td>\n",
       "      <td>5</td>\n",
       "      <td>14</td>\n",
       "    </tr>\n",
       "    <tr>\n",
       "      <th>37</th>\n",
       "      <td>Total</td>\n",
       "      <td>Total</td>\n",
       "      <td>14894</td>\n",
       "      <td>14071</td>\n",
       "      <td>12018</td>\n",
       "    </tr>\n",
       "  </tbody>\n",
       "</table>\n",
       "</div>"
      ],
      "text/plain": [
       "    Sl.No       Region  drunk_drv16  drunk_drv17  drunk_drv18\n",
       "33     33  Daman & Diu            7           12            8\n",
       "34     34        Delhi          164          124          333\n",
       "35     35  Lakshadweep            0            0            0\n",
       "36     36   Puducherry           82            5           14\n",
       "37  Total        Total        14894        14071        12018"
      ]
     },
     "execution_count": 14,
     "metadata": {},
     "output_type": "execute_result"
    }
   ],
   "source": [
    "df1.tail()"
   ]
  },
  {
   "cell_type": "code",
   "execution_count": 15,
   "metadata": {},
   "outputs": [
    {
     "data": {
      "text/plain": [
       "Index(['Sl.No', 'Region', 'drunk_drv16', 'drunk_drv17', 'drunk_drv18'], dtype='object')"
      ]
     },
     "execution_count": 15,
     "metadata": {},
     "output_type": "execute_result"
    }
   ],
   "source": [
    "df1.columns"
   ]
  },
  {
   "cell_type": "code",
   "execution_count": 16,
   "metadata": {},
   "outputs": [],
   "source": [
    "df1.drop([37], inplace = True)"
   ]
  },
  {
   "cell_type": "code",
   "execution_count": 17,
   "metadata": {},
   "outputs": [
    {
     "data": {
      "text/html": [
       "<div>\n",
       "<style scoped>\n",
       "    .dataframe tbody tr th:only-of-type {\n",
       "        vertical-align: middle;\n",
       "    }\n",
       "\n",
       "    .dataframe tbody tr th {\n",
       "        vertical-align: top;\n",
       "    }\n",
       "\n",
       "    .dataframe thead th {\n",
       "        text-align: right;\n",
       "    }\n",
       "</style>\n",
       "<table border=\"1\" class=\"dataframe\">\n",
       "  <thead>\n",
       "    <tr style=\"text-align: right;\">\n",
       "      <th></th>\n",
       "      <th>Sl.No</th>\n",
       "      <th>Region</th>\n",
       "      <th>drunk_drv16</th>\n",
       "      <th>drunk_drv17</th>\n",
       "      <th>drunk_drv18</th>\n",
       "    </tr>\n",
       "  </thead>\n",
       "  <tbody>\n",
       "    <tr>\n",
       "      <th>32</th>\n",
       "      <td>32</td>\n",
       "      <td>D &amp; N Haveli</td>\n",
       "      <td>0</td>\n",
       "      <td>1</td>\n",
       "      <td>1</td>\n",
       "    </tr>\n",
       "    <tr>\n",
       "      <th>33</th>\n",
       "      <td>33</td>\n",
       "      <td>Daman &amp; Diu</td>\n",
       "      <td>7</td>\n",
       "      <td>12</td>\n",
       "      <td>8</td>\n",
       "    </tr>\n",
       "    <tr>\n",
       "      <th>34</th>\n",
       "      <td>34</td>\n",
       "      <td>Delhi</td>\n",
       "      <td>164</td>\n",
       "      <td>124</td>\n",
       "      <td>333</td>\n",
       "    </tr>\n",
       "    <tr>\n",
       "      <th>35</th>\n",
       "      <td>35</td>\n",
       "      <td>Lakshadweep</td>\n",
       "      <td>0</td>\n",
       "      <td>0</td>\n",
       "      <td>0</td>\n",
       "    </tr>\n",
       "    <tr>\n",
       "      <th>36</th>\n",
       "      <td>36</td>\n",
       "      <td>Puducherry</td>\n",
       "      <td>82</td>\n",
       "      <td>5</td>\n",
       "      <td>14</td>\n",
       "    </tr>\n",
       "  </tbody>\n",
       "</table>\n",
       "</div>"
      ],
      "text/plain": [
       "   Sl.No        Region  drunk_drv16  drunk_drv17  drunk_drv18\n",
       "32    32  D & N Haveli            0            1            1\n",
       "33    33   Daman & Diu            7           12            8\n",
       "34    34         Delhi          164          124          333\n",
       "35    35   Lakshadweep            0            0            0\n",
       "36    36    Puducherry           82            5           14"
      ]
     },
     "execution_count": 17,
     "metadata": {},
     "output_type": "execute_result"
    }
   ],
   "source": [
    "df1.tail()"
   ]
  },
  {
   "cell_type": "code",
   "execution_count": 18,
   "metadata": {},
   "outputs": [
    {
     "data": {
      "text/plain": [
       "Sl.No          0\n",
       "Region         0\n",
       "drunk_drv16    0\n",
       "drunk_drv17    0\n",
       "drunk_drv18    0\n",
       "dtype: int64"
      ]
     },
     "execution_count": 18,
     "metadata": {},
     "output_type": "execute_result"
    }
   ],
   "source": [
    "df1.isnull().sum()"
   ]
  },
  {
   "cell_type": "code",
   "execution_count": 19,
   "metadata": {},
   "outputs": [
    {
     "data": {
      "text/plain": [
       "Sl.No           18.5\n",
       "drunk_drv16    105.0\n",
       "drunk_drv17    105.0\n",
       "drunk_drv18    109.0\n",
       "dtype: float64"
      ]
     },
     "execution_count": 19,
     "metadata": {},
     "output_type": "execute_result"
    }
   ],
   "source": [
    "df1.median()"
   ]
  },
  {
   "cell_type": "code",
   "execution_count": 20,
   "metadata": {},
   "outputs": [
    {
     "data": {
      "text/html": [
       "<div>\n",
       "<style scoped>\n",
       "    .dataframe tbody tr th:only-of-type {\n",
       "        vertical-align: middle;\n",
       "    }\n",
       "\n",
       "    .dataframe tbody tr th {\n",
       "        vertical-align: top;\n",
       "    }\n",
       "\n",
       "    .dataframe thead th {\n",
       "        text-align: right;\n",
       "    }\n",
       "</style>\n",
       "<table border=\"1\" class=\"dataframe\">\n",
       "  <thead>\n",
       "    <tr style=\"text-align: right;\">\n",
       "      <th></th>\n",
       "      <th>drunk_drv16</th>\n",
       "      <th>drunk_drv17</th>\n",
       "      <th>drunk_drv18</th>\n",
       "    </tr>\n",
       "  </thead>\n",
       "  <tbody>\n",
       "    <tr>\n",
       "      <th>count</th>\n",
       "      <td>36.000000</td>\n",
       "      <td>36.000000</td>\n",
       "      <td>36.000000</td>\n",
       "    </tr>\n",
       "    <tr>\n",
       "      <th>mean</th>\n",
       "      <td>413.722222</td>\n",
       "      <td>390.861111</td>\n",
       "      <td>333.833333</td>\n",
       "    </tr>\n",
       "    <tr>\n",
       "      <th>std</th>\n",
       "      <td>907.754202</td>\n",
       "      <td>729.905284</td>\n",
       "      <td>662.684605</td>\n",
       "    </tr>\n",
       "    <tr>\n",
       "      <th>min</th>\n",
       "      <td>0.000000</td>\n",
       "      <td>0.000000</td>\n",
       "      <td>0.000000</td>\n",
       "    </tr>\n",
       "    <tr>\n",
       "      <th>25%</th>\n",
       "      <td>24.000000</td>\n",
       "      <td>12.750000</td>\n",
       "      <td>19.000000</td>\n",
       "    </tr>\n",
       "    <tr>\n",
       "      <th>50%</th>\n",
       "      <td>105.000000</td>\n",
       "      <td>105.000000</td>\n",
       "      <td>109.000000</td>\n",
       "    </tr>\n",
       "    <tr>\n",
       "      <th>75%</th>\n",
       "      <td>412.500000</td>\n",
       "      <td>253.750000</td>\n",
       "      <td>324.750000</td>\n",
       "    </tr>\n",
       "    <tr>\n",
       "      <th>max</th>\n",
       "      <td>4633.000000</td>\n",
       "      <td>3336.000000</td>\n",
       "      <td>3595.000000</td>\n",
       "    </tr>\n",
       "  </tbody>\n",
       "</table>\n",
       "</div>"
      ],
      "text/plain": [
       "       drunk_drv16  drunk_drv17  drunk_drv18\n",
       "count    36.000000    36.000000    36.000000\n",
       "mean    413.722222   390.861111   333.833333\n",
       "std     907.754202   729.905284   662.684605\n",
       "min       0.000000     0.000000     0.000000\n",
       "25%      24.000000    12.750000    19.000000\n",
       "50%     105.000000   105.000000   109.000000\n",
       "75%     412.500000   253.750000   324.750000\n",
       "max    4633.000000  3336.000000  3595.000000"
      ]
     },
     "execution_count": 20,
     "metadata": {},
     "output_type": "execute_result"
    }
   ],
   "source": [
    "df1.describe()"
   ]
  },
  {
   "cell_type": "code",
   "execution_count": 21,
   "metadata": {},
   "outputs": [
    {
     "name": "stdout",
     "output_type": "stream",
     "text": [
      "<class 'pandas.core.frame.DataFrame'>\n",
      "Int64Index: 36 entries, 1 to 36\n",
      "Data columns (total 5 columns):\n",
      " #   Column       Non-Null Count  Dtype \n",
      "---  ------       --------------  ----- \n",
      " 0   Sl.No        36 non-null     object\n",
      " 1   Region       36 non-null     object\n",
      " 2   drunk_drv16  36 non-null     int64 \n",
      " 3   drunk_drv17  36 non-null     int64 \n",
      " 4   drunk_drv18  36 non-null     int64 \n",
      "dtypes: int64(3), object(2)\n",
      "memory usage: 1.7+ KB\n"
     ]
    }
   ],
   "source": [
    "df1.info()"
   ]
  },
  {
   "cell_type": "code",
   "execution_count": 79,
   "metadata": {},
   "outputs": [
    {
     "name": "stdout",
     "output_type": "stream",
     "text": [
      "Region:  object\n",
      "drunk_drv16:  int64\n",
      "drunk_drv17:  int64\n",
      "drunk_drv18:  int64\n"
     ]
    }
   ],
   "source": [
    "print(\"Region: \", df1.Region.dtype)\n",
    "print(\"drunk_drv16: \", df1.drunk_drv16.dtype)\n",
    "print(\"drunk_drv17: \", df1.drunk_drv17.dtype)\n",
    "print(\"drunk_drv18: \", df1.drunk_drv18.dtype)"
   ]
  },
  {
   "cell_type": "code",
   "execution_count": 22,
   "metadata": {},
   "outputs": [
    {
     "data": {
      "image/png": "[encoded data removed]",
      "text/plain": [
       "<Figure size 432x288 with 3 Axes>"
      ]
     },
     "metadata": {
      "needs_background": "light"
     },
     "output_type": "display_data"
    }
   ],
   "source": [
    "plt.subplot(1,3,1)\n",
    "plt.hist(\"drunk_drv16\", data = df1)\n",
    "plt.title(\"Year 2016\")\n",
    "plt.ylabel(\"Counts\", fontsize = 15)\n",
    "\n",
    "plt.subplot(1,3,2)\n",
    "plt.hist(\"drunk_drv17\", data = df1)\n",
    "plt.title(\"Year 2017\")\n",
    "plt.xlabel(\"Accidents\", fontsize = 15)\n",
    "\n",
    "plt.subplot(1,3,3)\n",
    "plt.hist(\"drunk_drv18\", data = df1)\n",
    "plt.title(\"Year 2018\")\n",
    "\n",
    "plt.subplots_adjust(wspace=0.5)\n",
    "\n",
    "plt.show()"
   ]
  },
  {
   "cell_type": "code",
   "execution_count": 24,
   "metadata": {},
   "outputs": [
    {
     "data": {
      "image/png": "[encoded data removed]",
      "text/plain": [
       "<Figure size 432x288 with 1 Axes>"
      ]
     },
     "metadata": {
      "needs_background": "light"
     },
     "output_type": "display_data"
    },
    {
     "data": {
      "image/png": "[encoded data removed]",
      "text/plain": [
       "<Figure size 432x288 with 1 Axes>"
      ]
     },
     "metadata": {
      "needs_background": "light"
     },
     "output_type": "display_data"
    },
    {
     "data": {
      "image/png": "[encoded data removed]",
      "text/plain": [
       "<Figure size 432x288 with 1 Axes>"
      ]
     },
     "metadata": {
      "needs_background": "light"
     },
     "output_type": "display_data"
    }
   ],
   "source": [
    "\n",
    "plt.bar('Region', \"drunk_drv16\", data = df1)\n",
    "plt.title(\"Year 2016\")\n",
    "plt.xlabel(\"Accidents\", fontsize = 15)\n",
    "plt.ylabel(\"Counts\", fontsize = 15)\n",
    "plt.xticks(rotation = 90, fontsize = 8)\n",
    "plt.show()\n",
    "\n",
    "plt.bar('Region', \"drunk_drv17\", data = df1)\n",
    "plt.title(\"Year 2017\")\n",
    "plt.xlabel(\"Accidents\", fontsize = 15)\n",
    "plt.ylabel(\"Counts\", fontsize = 15)\n",
    "plt.xticks(rotation = 90, fontsize = 8)\n",
    "plt.show()\n",
    "\n",
    "plt.bar('Region', \"drunk_drv18\", data = df1)\n",
    "plt.title(\"Year 2018\")\n",
    "plt.xlabel(\"Accidents\", fontsize = 15)\n",
    "plt.ylabel(\"Counts\", fontsize = 15)\n",
    "plt.xticks(rotation = 90, fontsize = 8)\n",
    "plt.show()\n",
    "\n",
    "\n",
    "plt.show()"
   ]
  },
  {
   "cell_type": "code",
   "execution_count": 138,
   "metadata": {},
   "outputs": [
    {
     "data": {
      "image/png": "[encoded data removed]",
      "text/plain": [
       "<Figure size 1080x504 with 1 Axes>"
      ]
     },
     "metadata": {
      "needs_background": "light"
     },
     "output_type": "display_data"
    }
   ],
   "source": [
    "plt.figure(figsize = (15,7))\n",
    "n=36\n",
    "r = np.arange(n)\n",
    "width = 0.25\n",
    "\n",
    "plt.bar(r, 'drunk_drv16', data = df1, label = \"Year 2016\", width = width)\n",
    "plt.bar(r+width, 'drunk_drv17', data = df1, label = \"Year 2017\", width = width)\n",
    "plt.bar(r+width*2, 'drunk_drv18', data = df1, label = \"Year 2018\", width = width)\n",
    "plt.xticks(r + width/2,df1['Region'])\n",
    "plt.xticks(rotation = 90, fontsize = 8)\n",
    "plt.xlabel(\"Regions\", fontsize = 15)\n",
    "plt.ylabel(\"Accidents\", fontsize = 15)\n",
    "plt.title(\"Accidents in all the States and UTs from 2016 to 2018\")\n",
    "\n",
    "plt.legend()\n",
    "plt.show()"
   ]
  },
  {
   "cell_type": "markdown",
   "metadata": {},
   "source": [
    "# ***2) Fund allocation for state roads and SH till 2018***"
   ]
  },
  {
   "cell_type": "code",
   "execution_count": 50,
   "metadata": {},
   "outputs": [
    {
     "data": {
      "text/plain": [
       "(36, 8)"
      ]
     },
     "execution_count": 50,
     "metadata": {},
     "output_type": "execute_result"
    }
   ],
   "source": [
    "df2.shape"
   ]
  },
  {
   "cell_type": "code",
   "execution_count": 31,
   "metadata": {},
   "outputs": [],
   "source": [
    "df2.index = df2.index + 1"
   ]
  },
  {
   "cell_type": "code",
   "execution_count": 32,
   "metadata": {},
   "outputs": [
    {
     "data": {
      "text/html": [
       "<div>\n",
       "<style scoped>\n",
       "    .dataframe tbody tr th:only-of-type {\n",
       "        vertical-align: middle;\n",
       "    }\n",
       "\n",
       "    .dataframe tbody tr th {\n",
       "        vertical-align: top;\n",
       "    }\n",
       "\n",
       "    .dataframe thead th {\n",
       "        text-align: right;\n",
       "    }\n",
       "</style>\n",
       "<table border=\"1\" class=\"dataframe\">\n",
       "  <thead>\n",
       "    <tr style=\"text-align: right;\">\n",
       "      <th></th>\n",
       "      <th>Category</th>\n",
       "      <th>Region</th>\n",
       "      <th>Accrual2016</th>\n",
       "      <th>Release2016</th>\n",
       "      <th>Accrual2017</th>\n",
       "      <th>Release2017</th>\n",
       "      <th>Accrual2018</th>\n",
       "      <th>Release2018</th>\n",
       "    </tr>\n",
       "  </thead>\n",
       "  <tbody>\n",
       "    <tr>\n",
       "      <th>1</th>\n",
       "      <td>State</td>\n",
       "      <td>Andhra Pradesh</td>\n",
       "      <td>136.13</td>\n",
       "      <td>178.13</td>\n",
       "      <td>348.72</td>\n",
       "      <td>347.17</td>\n",
       "      <td>316.45</td>\n",
       "      <td>331.48</td>\n",
       "    </tr>\n",
       "    <tr>\n",
       "      <th>2</th>\n",
       "      <td>State</td>\n",
       "      <td>Arunachal Pradesh</td>\n",
       "      <td>52.68</td>\n",
       "      <td>20.53</td>\n",
       "      <td>131.11</td>\n",
       "      <td>56.69</td>\n",
       "      <td>122.47</td>\n",
       "      <td>132.74</td>\n",
       "    </tr>\n",
       "    <tr>\n",
       "      <th>3</th>\n",
       "      <td>State</td>\n",
       "      <td>Assam</td>\n",
       "      <td>57.86</td>\n",
       "      <td>46.34</td>\n",
       "      <td>144.08</td>\n",
       "      <td>94.03</td>\n",
       "      <td>134.77</td>\n",
       "      <td>48.80</td>\n",
       "    </tr>\n",
       "    <tr>\n",
       "      <th>4</th>\n",
       "      <td>State</td>\n",
       "      <td>Bihar</td>\n",
       "      <td>80.88</td>\n",
       "      <td>80.88</td>\n",
       "      <td>200.46</td>\n",
       "      <td>169.70</td>\n",
       "      <td>190.11</td>\n",
       "      <td>25.20</td>\n",
       "    </tr>\n",
       "    <tr>\n",
       "      <th>5</th>\n",
       "      <td>State</td>\n",
       "      <td>Chhattisgarh</td>\n",
       "      <td>98.73</td>\n",
       "      <td>84.13</td>\n",
       "      <td>247.30</td>\n",
       "      <td>97.12</td>\n",
       "      <td>231.16</td>\n",
       "      <td>212.28</td>\n",
       "    </tr>\n",
       "  </tbody>\n",
       "</table>\n",
       "</div>"
      ],
      "text/plain": [
       "  Category             Region  Accrual2016  Release2016  Accrual2017  \\\n",
       "1    State     Andhra Pradesh       136.13       178.13       348.72   \n",
       "2    State  Arunachal Pradesh        52.68        20.53       131.11   \n",
       "3    State              Assam        57.86        46.34       144.08   \n",
       "4    State              Bihar        80.88        80.88       200.46   \n",
       "5    State       Chhattisgarh        98.73        84.13       247.30   \n",
       "\n",
       "   Release2017  Accrual2018  Release2018  \n",
       "1       347.17       316.45       331.48  \n",
       "2        56.69       122.47       132.74  \n",
       "3        94.03       134.77        48.80  \n",
       "4       169.70       190.11        25.20  \n",
       "5        97.12       231.16       212.28  "
      ]
     },
     "execution_count": 32,
     "metadata": {},
     "output_type": "execute_result"
    }
   ],
   "source": [
    "df2 = df2.rename(columns = {'State/UT':'Region', '2015-16 - Accrual':'Accrual2016', '2015-16 - Release':'Release2016', '2016-17 - Accrual':'Accrual2017', '2016-17 - Release':'Release2017', '2017-18 - Accrual':'Accrual2018', '2017-18 - Release':'Release2018'})\n",
    "df2.head()"
   ]
  },
  {
   "cell_type": "code",
   "execution_count": 33,
   "metadata": {},
   "outputs": [
    {
     "data": {
      "text/html": [
       "<div>\n",
       "<style scoped>\n",
       "    .dataframe tbody tr th:only-of-type {\n",
       "        vertical-align: middle;\n",
       "    }\n",
       "\n",
       "    .dataframe tbody tr th {\n",
       "        vertical-align: top;\n",
       "    }\n",
       "\n",
       "    .dataframe thead th {\n",
       "        text-align: right;\n",
       "    }\n",
       "</style>\n",
       "<table border=\"1\" class=\"dataframe\">\n",
       "  <thead>\n",
       "    <tr style=\"text-align: right;\">\n",
       "      <th></th>\n",
       "      <th>Category</th>\n",
       "      <th>Region</th>\n",
       "      <th>Accrual2016</th>\n",
       "      <th>Release2016</th>\n",
       "      <th>Accrual2017</th>\n",
       "      <th>Release2017</th>\n",
       "      <th>Accrual2018</th>\n",
       "      <th>Release2018</th>\n",
       "    </tr>\n",
       "  </thead>\n",
       "  <tbody>\n",
       "    <tr>\n",
       "      <th>32</th>\n",
       "      <td>Union Territory</td>\n",
       "      <td>Dadra &amp; Nagar Haveli</td>\n",
       "      <td>1.33</td>\n",
       "      <td>NaN</td>\n",
       "      <td>3.87</td>\n",
       "      <td>0.00</td>\n",
       "      <td>3.78</td>\n",
       "      <td>0.00</td>\n",
       "    </tr>\n",
       "    <tr>\n",
       "      <th>33</th>\n",
       "      <td>Union Territory</td>\n",
       "      <td>Daman &amp; Diu</td>\n",
       "      <td>0.99</td>\n",
       "      <td>NaN</td>\n",
       "      <td>2.70</td>\n",
       "      <td>0.00</td>\n",
       "      <td>2.32</td>\n",
       "      <td>0.00</td>\n",
       "    </tr>\n",
       "    <tr>\n",
       "      <th>34</th>\n",
       "      <td>Union Territory</td>\n",
       "      <td>Delhi</td>\n",
       "      <td>24.75</td>\n",
       "      <td>NaN</td>\n",
       "      <td>64.12</td>\n",
       "      <td>5.54</td>\n",
       "      <td>58.19</td>\n",
       "      <td>1.16</td>\n",
       "    </tr>\n",
       "    <tr>\n",
       "      <th>35</th>\n",
       "      <td>Union Territory</td>\n",
       "      <td>Lakshadweep</td>\n",
       "      <td>0.00</td>\n",
       "      <td>NaN</td>\n",
       "      <td>0.23</td>\n",
       "      <td>0.00</td>\n",
       "      <td>0.00</td>\n",
       "      <td>0.00</td>\n",
       "    </tr>\n",
       "    <tr>\n",
       "      <th>36</th>\n",
       "      <td>Union Territory</td>\n",
       "      <td>Puducherry</td>\n",
       "      <td>4.95</td>\n",
       "      <td>4.9</td>\n",
       "      <td>10.68</td>\n",
       "      <td>32.80</td>\n",
       "      <td>11.64</td>\n",
       "      <td>11.64</td>\n",
       "    </tr>\n",
       "  </tbody>\n",
       "</table>\n",
       "</div>"
      ],
      "text/plain": [
       "           Category                Region  Accrual2016  Release2016  \\\n",
       "32  Union Territory  Dadra & Nagar Haveli         1.33          NaN   \n",
       "33  Union Territory           Daman & Diu         0.99          NaN   \n",
       "34  Union Territory                 Delhi        24.75          NaN   \n",
       "35  Union Territory           Lakshadweep         0.00          NaN   \n",
       "36  Union Territory            Puducherry         4.95          4.9   \n",
       "\n",
       "    Accrual2017  Release2017  Accrual2018  Release2018  \n",
       "32         3.87         0.00         3.78         0.00  \n",
       "33         2.70         0.00         2.32         0.00  \n",
       "34        64.12         5.54        58.19         1.16  \n",
       "35         0.23         0.00         0.00         0.00  \n",
       "36        10.68        32.80        11.64        11.64  "
      ]
     },
     "execution_count": 33,
     "metadata": {},
     "output_type": "execute_result"
    }
   ],
   "source": [
    "df2.tail()"
   ]
  },
  {
   "cell_type": "code",
   "execution_count": 34,
   "metadata": {},
   "outputs": [
    {
     "name": "stdout",
     "output_type": "stream",
     "text": [
      "Category       0\n",
      "Region         0\n",
      "Accrual2016    0\n",
      "Release2016    5\n",
      "Accrual2017    0\n",
      "Release2017    0\n",
      "Accrual2018    0\n",
      "Release2018    0\n",
      "dtype: int64\n"
     ]
    }
   ],
   "source": [
    "print(df2.isnull().sum())"
   ]
  },
  {
   "cell_type": "code",
   "execution_count": 35,
   "metadata": {},
   "outputs": [
    {
     "data": {
      "text/plain": [
       "Accrual2016     58.870\n",
       "Release2016     55.480\n",
       "Accrual2017    147.225\n",
       "Release2017     76.600\n",
       "Accrual2018    133.730\n",
       "Release2018     89.535\n",
       "dtype: float64"
      ]
     },
     "execution_count": 35,
     "metadata": {},
     "output_type": "execute_result"
    }
   ],
   "source": [
    "df2.median()"
   ]
  },
  {
   "cell_type": "code",
   "execution_count": 39,
   "metadata": {},
   "outputs": [
    {
     "data": {
      "text/html": [
       "<div>\n",
       "<style scoped>\n",
       "    .dataframe tbody tr th:only-of-type {\n",
       "        vertical-align: middle;\n",
       "    }\n",
       "\n",
       "    .dataframe tbody tr th {\n",
       "        vertical-align: top;\n",
       "    }\n",
       "\n",
       "    .dataframe thead th {\n",
       "        text-align: right;\n",
       "    }\n",
       "</style>\n",
       "<table border=\"1\" class=\"dataframe\">\n",
       "  <thead>\n",
       "    <tr style=\"text-align: right;\">\n",
       "      <th></th>\n",
       "      <th>Accrual2016</th>\n",
       "      <th>Release2016</th>\n",
       "      <th>Accrual2017</th>\n",
       "      <th>Release2017</th>\n",
       "      <th>Accrual2018</th>\n",
       "      <th>Release2018</th>\n",
       "    </tr>\n",
       "  </thead>\n",
       "  <tbody>\n",
       "    <tr>\n",
       "      <th>count</th>\n",
       "      <td>36.000000</td>\n",
       "      <td>31.000000</td>\n",
       "      <td>36.000000</td>\n",
       "      <td>36.000000</td>\n",
       "      <td>36.000000</td>\n",
       "      <td>36.000000</td>\n",
       "    </tr>\n",
       "    <tr>\n",
       "      <th>mean</th>\n",
       "      <td>80.025000</td>\n",
       "      <td>77.358387</td>\n",
       "      <td>199.305556</td>\n",
       "      <td>140.828611</td>\n",
       "      <td>187.335278</td>\n",
       "      <td>176.864444</td>\n",
       "    </tr>\n",
       "    <tr>\n",
       "      <th>std</th>\n",
       "      <td>81.846972</td>\n",
       "      <td>93.539437</td>\n",
       "      <td>204.179842</td>\n",
       "      <td>192.670345</td>\n",
       "      <td>192.811882</td>\n",
       "      <td>238.699374</td>\n",
       "    </tr>\n",
       "    <tr>\n",
       "      <th>min</th>\n",
       "      <td>0.000000</td>\n",
       "      <td>0.000000</td>\n",
       "      <td>0.230000</td>\n",
       "      <td>0.000000</td>\n",
       "      <td>0.000000</td>\n",
       "      <td>0.000000</td>\n",
       "    </tr>\n",
       "    <tr>\n",
       "      <th>25%</th>\n",
       "      <td>10.147500</td>\n",
       "      <td>6.345000</td>\n",
       "      <td>25.337500</td>\n",
       "      <td>15.230000</td>\n",
       "      <td>26.262500</td>\n",
       "      <td>12.360000</td>\n",
       "    </tr>\n",
       "    <tr>\n",
       "      <th>50%</th>\n",
       "      <td>58.870000</td>\n",
       "      <td>55.480000</td>\n",
       "      <td>147.225000</td>\n",
       "      <td>76.600000</td>\n",
       "      <td>133.730000</td>\n",
       "      <td>89.535000</td>\n",
       "    </tr>\n",
       "    <tr>\n",
       "      <th>75%</th>\n",
       "      <td>123.410000</td>\n",
       "      <td>101.685000</td>\n",
       "      <td>308.962500</td>\n",
       "      <td>168.995000</td>\n",
       "      <td>289.060000</td>\n",
       "      <td>235.187500</td>\n",
       "    </tr>\n",
       "    <tr>\n",
       "      <th>max</th>\n",
       "      <td>289.570000</td>\n",
       "      <td>432.850000</td>\n",
       "      <td>717.660000</td>\n",
       "      <td>815.830000</td>\n",
       "      <td>660.160000</td>\n",
       "      <td>890.240000</td>\n",
       "    </tr>\n",
       "  </tbody>\n",
       "</table>\n",
       "</div>"
      ],
      "text/plain": [
       "       Accrual2016  Release2016  Accrual2017  Release2017  Accrual2018  \\\n",
       "count    36.000000    31.000000    36.000000    36.000000    36.000000   \n",
       "mean     80.025000    77.358387   199.305556   140.828611   187.335278   \n",
       "std      81.846972    93.539437   204.179842   192.670345   192.811882   \n",
       "min       0.000000     0.000000     0.230000     0.000000     0.000000   \n",
       "25%      10.147500     6.345000    25.337500    15.230000    26.262500   \n",
       "50%      58.870000    55.480000   147.225000    76.600000   133.730000   \n",
       "75%     123.410000   101.685000   308.962500   168.995000   289.060000   \n",
       "max     289.570000   432.850000   717.660000   815.830000   660.160000   \n",
       "\n",
       "       Release2018  \n",
       "count    36.000000  \n",
       "mean    176.864444  \n",
       "std     238.699374  \n",
       "min       0.000000  \n",
       "25%      12.360000  \n",
       "50%      89.535000  \n",
       "75%     235.187500  \n",
       "max     890.240000  "
      ]
     },
     "execution_count": 39,
     "metadata": {},
     "output_type": "execute_result"
    }
   ],
   "source": [
    "df2.describe()"
   ]
  },
  {
   "cell_type": "code",
   "execution_count": 40,
   "metadata": {},
   "outputs": [
    {
     "data": {
      "text/plain": [
       "Index(['Category', 'Region', 'Accrual2016', 'Release2016', 'Accrual2017',\n",
       "       'Release2017', 'Accrual2018', 'Release2018'],\n",
       "      dtype='object')"
      ]
     },
     "execution_count": 40,
     "metadata": {},
     "output_type": "execute_result"
    }
   ],
   "source": [
    "df2.columns"
   ]
  },
  {
   "cell_type": "code",
   "execution_count": 41,
   "metadata": {},
   "outputs": [
    {
     "name": "stdout",
     "output_type": "stream",
     "text": [
      "<class 'pandas.core.frame.DataFrame'>\n",
      "RangeIndex: 36 entries, 1 to 36\n",
      "Data columns (total 8 columns):\n",
      " #   Column       Non-Null Count  Dtype  \n",
      "---  ------       --------------  -----  \n",
      " 0   Category     36 non-null     object \n",
      " 1   Region       36 non-null     object \n",
      " 2   Accrual2016  36 non-null     float64\n",
      " 3   Release2016  31 non-null     float64\n",
      " 4   Accrual2017  36 non-null     float64\n",
      " 5   Release2017  36 non-null     float64\n",
      " 6   Accrual2018  36 non-null     float64\n",
      " 7   Release2018  36 non-null     float64\n",
      "dtypes: float64(6), object(2)\n",
      "memory usage: 2.4+ KB\n"
     ]
    }
   ],
   "source": [
    "df2.info()"
   ]
  },
  {
   "cell_type": "code",
   "execution_count": 42,
   "metadata": {},
   "outputs": [
    {
     "name": "stdout",
     "output_type": "stream",
     "text": [
      "Category:  object\n",
      "Region:  object\n",
      "Accrual2016:  float64\n",
      "Release2016:  float64\n",
      "Accrual2017:  float64\n",
      "Release2017:  float64\n",
      "Accrual2018:  float64\n",
      "Release2018:  float64\n"
     ]
    }
   ],
   "source": [
    "print(\"Category: \", df2.Category.dtype)\n",
    "print(\"Region: \", df2.Region.dtype)\n",
    "print(\"Accrual2016: \", df2.Accrual2016.dtype)\n",
    "print(\"Release2016: \", df2.Release2016.dtype)\n",
    "print(\"Accrual2017: \", df2.Accrual2017.dtype)\n",
    "print(\"Release2017: \", df2.Release2017.dtype)\n",
    "print(\"Accrual2018: \", df2.Accrual2018.dtype)\n",
    "print(\"Release2018: \", df2.Release2018.dtype)"
   ]
  },
  {
   "cell_type": "code",
   "execution_count": 143,
   "metadata": {},
   "outputs": [
    {
     "data": {
      "image/png": "[encoded data removed]",
      "text/plain": [
       "<Figure size 432x288 with 6 Axes>"
      ]
     },
     "metadata": {
      "needs_background": "light"
     },
     "output_type": "display_data"
    }
   ],
   "source": [
    "plt.subplot(3,3,1)\n",
    "plt.hist('Accrual2016', data = df2)\n",
    "plt.title(\"Accrual2016\")\n",
    "\n",
    "plt.subplot(3,3,2)\n",
    "plt.hist('Release2016', data = df2)\n",
    "plt.title(\"Release2016\")\n",
    "\n",
    "plt.subplot(3,3,3)\n",
    "plt.hist('Accrual2017', data = df2)\n",
    "plt.title(\"Accrual2017\")\n",
    "\n",
    "plt.subplot(3,3,4)\n",
    "plt.hist('Release2017', data = df2)\n",
    "plt.title(\"Release2017\")\n",
    "\n",
    "plt.subplot(3,3,5)\n",
    "plt.hist('Accrual2018', data = df2)\n",
    "plt.title(\"Accrual2018\")\n",
    "plt.xlabel(\"Funds in crores of INR\", fontsize = 15)\n",
    "\n",
    "plt.subplot(3,3,6)\n",
    "plt.hist('Release2018', data = df2)\n",
    "plt.title(\"Release2018\")\n",
    "\n",
    "plt.subplots_adjust(top = 1.5, bottom=0.01, hspace=0.5, wspace=0.4)\n",
    "\n",
    "plt.show()"
   ]
  },
  {
   "cell_type": "markdown",
   "metadata": {},
   "source": [
    "# ***3) Funds for National highway construction till 2019***"
   ]
  },
  {
   "cell_type": "code",
   "execution_count": 65,
   "metadata": {},
   "outputs": [
    {
     "data": {
      "text/plain": [
       "(43, 5)"
      ]
     },
     "execution_count": 65,
     "metadata": {},
     "output_type": "execute_result"
    }
   ],
   "source": [
    "df3.shape"
   ]
  },
  {
   "cell_type": "code",
   "execution_count": 52,
   "metadata": {},
   "outputs": [],
   "source": [
    "df3.index = df3.index + 1"
   ]
  },
  {
   "cell_type": "code",
   "execution_count": 53,
   "metadata": {},
   "outputs": [
    {
     "data": {
      "text/plain": [
       "Index(['S No', 'State/UT/Schemes/Agency', '2016-17', '2017-18', '2018-19'], dtype='object')"
      ]
     },
     "execution_count": 53,
     "metadata": {},
     "output_type": "execute_result"
    }
   ],
   "source": [
    "df3.columns"
   ]
  },
  {
   "cell_type": "code",
   "execution_count": 60,
   "metadata": {},
   "outputs": [],
   "source": [
    "df3.drop([44], inplace = True)"
   ]
  },
  {
   "cell_type": "code",
   "execution_count": 61,
   "metadata": {},
   "outputs": [],
   "source": [
    "df3 = df3.rename(columns = {'State/UT/Schemes/Agency':'Region', '2016-17':'NHfund2017', '2017-18':'NHfund2018', '2018-19':'NHfund2019'})"
   ]
  },
  {
   "cell_type": "code",
   "execution_count": 62,
   "metadata": {},
   "outputs": [
    {
     "data": {
      "text/html": [
       "<div>\n",
       "<style scoped>\n",
       "    .dataframe tbody tr th:only-of-type {\n",
       "        vertical-align: middle;\n",
       "    }\n",
       "\n",
       "    .dataframe tbody tr th {\n",
       "        vertical-align: top;\n",
       "    }\n",
       "\n",
       "    .dataframe thead th {\n",
       "        text-align: right;\n",
       "    }\n",
       "</style>\n",
       "<table border=\"1\" class=\"dataframe\">\n",
       "  <thead>\n",
       "    <tr style=\"text-align: right;\">\n",
       "      <th></th>\n",
       "      <th>S No</th>\n",
       "      <th>Region</th>\n",
       "      <th>NHfund2017</th>\n",
       "      <th>NHfund2018</th>\n",
       "      <th>NHfund2019</th>\n",
       "    </tr>\n",
       "  </thead>\n",
       "  <tbody>\n",
       "    <tr>\n",
       "      <th>1</th>\n",
       "      <td>1</td>\n",
       "      <td>Andhra Pradesh</td>\n",
       "      <td>2010.31</td>\n",
       "      <td>1781.18</td>\n",
       "      <td>2260.26</td>\n",
       "    </tr>\n",
       "    <tr>\n",
       "      <th>2</th>\n",
       "      <td>2</td>\n",
       "      <td>Arunachal Pradesh</td>\n",
       "      <td>100.00</td>\n",
       "      <td>62.05</td>\n",
       "      <td>90.00</td>\n",
       "    </tr>\n",
       "    <tr>\n",
       "      <th>3</th>\n",
       "      <td>3</td>\n",
       "      <td>Assam</td>\n",
       "      <td>177.44</td>\n",
       "      <td>308.05</td>\n",
       "      <td>414.00</td>\n",
       "    </tr>\n",
       "    <tr>\n",
       "      <th>4</th>\n",
       "      <td>4</td>\n",
       "      <td>Bihar</td>\n",
       "      <td>1362.64</td>\n",
       "      <td>1689.90</td>\n",
       "      <td>1598.31</td>\n",
       "    </tr>\n",
       "    <tr>\n",
       "      <th>5</th>\n",
       "      <td>5</td>\n",
       "      <td>Chhattisgarh</td>\n",
       "      <td>1553.30</td>\n",
       "      <td>1107.93</td>\n",
       "      <td>1831.32</td>\n",
       "    </tr>\n",
       "  </tbody>\n",
       "</table>\n",
       "</div>"
      ],
      "text/plain": [
       "  S No             Region  NHfund2017  NHfund2018  NHfund2019\n",
       "1    1     Andhra Pradesh     2010.31     1781.18     2260.26\n",
       "2    2  Arunachal Pradesh      100.00       62.05       90.00\n",
       "3    3              Assam      177.44      308.05      414.00\n",
       "4    4              Bihar     1362.64     1689.90     1598.31\n",
       "5    5       Chhattisgarh     1553.30     1107.93     1831.32"
      ]
     },
     "execution_count": 62,
     "metadata": {},
     "output_type": "execute_result"
    }
   ],
   "source": [
    "df3.head()"
   ]
  },
  {
   "cell_type": "code",
   "execution_count": 66,
   "metadata": {},
   "outputs": [
    {
     "data": {
      "text/html": [
       "<div>\n",
       "<style scoped>\n",
       "    .dataframe tbody tr th:only-of-type {\n",
       "        vertical-align: middle;\n",
       "    }\n",
       "\n",
       "    .dataframe tbody tr th {\n",
       "        vertical-align: top;\n",
       "    }\n",
       "\n",
       "    .dataframe thead th {\n",
       "        text-align: right;\n",
       "    }\n",
       "</style>\n",
       "<table border=\"1\" class=\"dataframe\">\n",
       "  <thead>\n",
       "    <tr style=\"text-align: right;\">\n",
       "      <th></th>\n",
       "      <th>S No</th>\n",
       "      <th>Region</th>\n",
       "      <th>NHfund2017</th>\n",
       "      <th>NHfund2018</th>\n",
       "      <th>NHfund2019</th>\n",
       "    </tr>\n",
       "  </thead>\n",
       "  <tbody>\n",
       "    <tr>\n",
       "      <th>39</th>\n",
       "      <td>41</td>\n",
       "      <td>SARDP-NE including Arunachal Package*</td>\n",
       "      <td>4520.00</td>\n",
       "      <td>4865.00</td>\n",
       "      <td>5610.0</td>\n",
       "    </tr>\n",
       "    <tr>\n",
       "      <th>40</th>\n",
       "      <td>42</td>\n",
       "      <td>Left Wing Extremism affected Area (LWE) includ...</td>\n",
       "      <td>760.00</td>\n",
       "      <td>1050.00</td>\n",
       "      <td>905.0</td>\n",
       "    </tr>\n",
       "    <tr>\n",
       "      <th>41</th>\n",
       "      <td>43</td>\n",
       "      <td>Externally Aided Projects (EAP)</td>\n",
       "      <td>59.38</td>\n",
       "      <td>316.00</td>\n",
       "      <td>183.0</td>\n",
       "    </tr>\n",
       "    <tr>\n",
       "      <th>42</th>\n",
       "      <td>44</td>\n",
       "      <td>Reserve/unallocated in above</td>\n",
       "      <td>0.44</td>\n",
       "      <td>12.59</td>\n",
       "      <td>500.0</td>\n",
       "    </tr>\n",
       "    <tr>\n",
       "      <th>43</th>\n",
       "      <td>45</td>\n",
       "      <td>IEBR / Borrowings by NHAI</td>\n",
       "      <td>59279.00</td>\n",
       "      <td>59279.00</td>\n",
       "      <td>62000.0</td>\n",
       "    </tr>\n",
       "  </tbody>\n",
       "</table>\n",
       "</div>"
      ],
      "text/plain": [
       "   S No                                             Region  NHfund2017  \\\n",
       "39   41              SARDP-NE including Arunachal Package*     4520.00   \n",
       "40   42  Left Wing Extremism affected Area (LWE) includ...      760.00   \n",
       "41   43                    Externally Aided Projects (EAP)       59.38   \n",
       "42   44                       Reserve/unallocated in above        0.44   \n",
       "43   45                          IEBR / Borrowings by NHAI    59279.00   \n",
       "\n",
       "    NHfund2018  NHfund2019  \n",
       "39     4865.00      5610.0  \n",
       "40     1050.00       905.0  \n",
       "41      316.00       183.0  \n",
       "42       12.59       500.0  \n",
       "43    59279.00     62000.0  "
      ]
     },
     "execution_count": 66,
     "metadata": {},
     "output_type": "execute_result"
    }
   ],
   "source": [
    "df3.tail()"
   ]
  },
  {
   "cell_type": "code",
   "execution_count": 67,
   "metadata": {},
   "outputs": [
    {
     "name": "stdout",
     "output_type": "stream",
     "text": [
      "<class 'pandas.core.frame.DataFrame'>\n",
      "Int64Index: 43 entries, 1 to 43\n",
      "Data columns (total 5 columns):\n",
      " #   Column      Non-Null Count  Dtype  \n",
      "---  ------      --------------  -----  \n",
      " 0   S No        43 non-null     object \n",
      " 1   Region      43 non-null     object \n",
      " 2   NHfund2017  43 non-null     float64\n",
      " 3   NHfund2018  43 non-null     float64\n",
      " 4   NHfund2019  43 non-null     float64\n",
      "dtypes: float64(3), object(2)\n",
      "memory usage: 2.0+ KB\n"
     ]
    }
   ],
   "source": [
    "df3.info()"
   ]
  },
  {
   "cell_type": "code",
   "execution_count": 68,
   "metadata": {},
   "outputs": [
    {
     "name": "stdout",
     "output_type": "stream",
     "text": [
      "S No          0\n",
      "Region        0\n",
      "NHfund2017    0\n",
      "NHfund2018    0\n",
      "NHfund2019    0\n",
      "dtype: int64\n"
     ]
    }
   ],
   "source": [
    "print(df3.isnull().sum())"
   ]
  },
  {
   "cell_type": "code",
   "execution_count": 69,
   "metadata": {},
   "outputs": [
    {
     "data": {
      "text/plain": [
       "S No           22.00\n",
       "NHfund2017    259.89\n",
       "NHfund2018    308.05\n",
       "NHfund2019    500.00\n",
       "dtype: float64"
      ]
     },
     "execution_count": 69,
     "metadata": {},
     "output_type": "execute_result"
    }
   ],
   "source": [
    "df3.median()"
   ]
  },
  {
   "cell_type": "code",
   "execution_count": 70,
   "metadata": {
    "scrolled": true
   },
   "outputs": [
    {
     "data": {
      "text/html": [
       "<div>\n",
       "<style scoped>\n",
       "    .dataframe tbody tr th:only-of-type {\n",
       "        vertical-align: middle;\n",
       "    }\n",
       "\n",
       "    .dataframe tbody tr th {\n",
       "        vertical-align: top;\n",
       "    }\n",
       "\n",
       "    .dataframe thead th {\n",
       "        text-align: right;\n",
       "    }\n",
       "</style>\n",
       "<table border=\"1\" class=\"dataframe\">\n",
       "  <thead>\n",
       "    <tr style=\"text-align: right;\">\n",
       "      <th></th>\n",
       "      <th>NHfund2017</th>\n",
       "      <th>NHfund2018</th>\n",
       "      <th>NHfund2019</th>\n",
       "    </tr>\n",
       "  </thead>\n",
       "  <tbody>\n",
       "    <tr>\n",
       "      <th>count</th>\n",
       "      <td>43.000000</td>\n",
       "      <td>43.000000</td>\n",
       "      <td>43.000000</td>\n",
       "    </tr>\n",
       "    <tr>\n",
       "      <th>mean</th>\n",
       "      <td>2339.665349</td>\n",
       "      <td>2545.438140</td>\n",
       "      <td>3025.199070</td>\n",
       "    </tr>\n",
       "    <tr>\n",
       "      <th>std</th>\n",
       "      <td>9130.295668</td>\n",
       "      <td>9248.967363</td>\n",
       "      <td>9841.313267</td>\n",
       "    </tr>\n",
       "    <tr>\n",
       "      <th>min</th>\n",
       "      <td>0.000000</td>\n",
       "      <td>0.000000</td>\n",
       "      <td>0.000000</td>\n",
       "    </tr>\n",
       "    <tr>\n",
       "      <th>25%</th>\n",
       "      <td>40.665000</td>\n",
       "      <td>51.000000</td>\n",
       "      <td>112.500000</td>\n",
       "    </tr>\n",
       "    <tr>\n",
       "      <th>50%</th>\n",
       "      <td>259.890000</td>\n",
       "      <td>308.050000</td>\n",
       "      <td>500.000000</td>\n",
       "    </tr>\n",
       "    <tr>\n",
       "      <th>75%</th>\n",
       "      <td>1348.130000</td>\n",
       "      <td>1078.965000</td>\n",
       "      <td>1447.090000</td>\n",
       "    </tr>\n",
       "    <tr>\n",
       "      <th>max</th>\n",
       "      <td>59279.000000</td>\n",
       "      <td>59279.000000</td>\n",
       "      <td>62000.000000</td>\n",
       "    </tr>\n",
       "  </tbody>\n",
       "</table>\n",
       "</div>"
      ],
      "text/plain": [
       "         NHfund2017    NHfund2018    NHfund2019\n",
       "count     43.000000     43.000000     43.000000\n",
       "mean    2339.665349   2545.438140   3025.199070\n",
       "std     9130.295668   9248.967363   9841.313267\n",
       "min        0.000000      0.000000      0.000000\n",
       "25%       40.665000     51.000000    112.500000\n",
       "50%      259.890000    308.050000    500.000000\n",
       "75%     1348.130000   1078.965000   1447.090000\n",
       "max    59279.000000  59279.000000  62000.000000"
      ]
     },
     "execution_count": 70,
     "metadata": {},
     "output_type": "execute_result"
    }
   ],
   "source": [
    "df3.describe()"
   ]
  },
  {
   "cell_type": "code",
   "execution_count": 184,
   "metadata": {},
   "outputs": [
    {
     "name": "stdout",
     "output_type": "stream",
     "text": [
      "Region:  object\n",
      "NHfund2017:  float64\n",
      "NHfund2018:  float64\n",
      "NHfund2019:  float64\n"
     ]
    }
   ],
   "source": [
    "print(\"Region: \", df3.Region.dtype)\n",
    "print(\"NHfund2017: \", df3.NHfund2017.dtype)\n",
    "print(\"NHfund2018: \", df3.NHfund2018.dtype)\n",
    "print(\"NHfund2019: \", df3.NHfund2019.dtype)"
   ]
  },
  {
   "cell_type": "code",
   "execution_count": 74,
   "metadata": {
    "scrolled": true
   },
   "outputs": [
    {
     "data": {
      "image/png": "[encoded data removed]",
      "text/plain": [
       "<Figure size 432x288 with 3 Axes>"
      ]
     },
     "metadata": {
      "needs_background": "light"
     },
     "output_type": "display_data"
    }
   ],
   "source": [
    "plt.subplot(1,3,1)\n",
    "plt.hist('NHfund2017', data = df3)\n",
    "plt.title(\"Year 2016-17\")\n",
    "\n",
    "plt.subplot(1,3,2)\n",
    "plt.hist('NHfund2018', data = df3)\n",
    "plt.title(\"Year 2017-18\")\n",
    "plt.xlabel(\"Construction Funds in Crores of INR\", fontsize = 15)\n",
    "\n",
    "plt.subplot(1,3,3)\n",
    "plt.hist('NHfund2019', data = df3)\n",
    "plt.title(\"Year 2018-19\")\n",
    "\n",
    "plt.subplots_adjust(wspace = 1)\n",
    "\n",
    "plt.show()"
   ]
  },
  {
   "cell_type": "markdown",
   "metadata": {},
   "source": [
    "# ***4) Funds for National Highway maintenance till 2020***"
   ]
  },
  {
   "cell_type": "code",
   "execution_count": 75,
   "metadata": {},
   "outputs": [
    {
     "data": {
      "text/plain": [
       "(39, 10)"
      ]
     },
     "execution_count": 75,
     "metadata": {},
     "output_type": "execute_result"
    }
   ],
   "source": [
    "df4.shape"
   ]
  },
  {
   "cell_type": "code",
   "execution_count": 76,
   "metadata": {},
   "outputs": [],
   "source": [
    "df4.index = df4.index + 1"
   ]
  },
  {
   "cell_type": "code",
   "execution_count": 77,
   "metadata": {},
   "outputs": [],
   "source": [
    "df4 = df4.rename(columns = {'States/UTs/Agency':'Region', '2016-17 - Alloc.':'Alloc17', '2016-17 - Expd.':'Expd17', \n",
    "                            '2017-18 - Alloc.':'Alloc18', '2017-18 - Expd.':'Expd18', \n",
    "                            '2018-19 - Alloc.':'Alloc19', '2018-19 - Expd.':'Expd19',\n",
    "                            '2019-20 - Alloc.':'Alloc20', '2019-20 - Expd.':'Expd20'})"
   ]
  },
  {
   "cell_type": "code",
   "execution_count": 78,
   "metadata": {},
   "outputs": [
    {
     "data": {
      "text/html": [
       "<div>\n",
       "<style scoped>\n",
       "    .dataframe tbody tr th:only-of-type {\n",
       "        vertical-align: middle;\n",
       "    }\n",
       "\n",
       "    .dataframe tbody tr th {\n",
       "        vertical-align: top;\n",
       "    }\n",
       "\n",
       "    .dataframe thead th {\n",
       "        text-align: right;\n",
       "    }\n",
       "</style>\n",
       "<table border=\"1\" class=\"dataframe\">\n",
       "  <thead>\n",
       "    <tr style=\"text-align: right;\">\n",
       "      <th></th>\n",
       "      <th>Sl. No.</th>\n",
       "      <th>Region</th>\n",
       "      <th>Alloc17</th>\n",
       "      <th>Expd17</th>\n",
       "      <th>Alloc18</th>\n",
       "      <th>Expd18</th>\n",
       "      <th>Alloc19</th>\n",
       "      <th>Expd19</th>\n",
       "      <th>Alloc20</th>\n",
       "      <th>Expd20</th>\n",
       "    </tr>\n",
       "  </thead>\n",
       "  <tbody>\n",
       "    <tr>\n",
       "      <th>1</th>\n",
       "      <td>1</td>\n",
       "      <td>Andhra Pradesh</td>\n",
       "      <td>129.87</td>\n",
       "      <td>123.10</td>\n",
       "      <td>83.52</td>\n",
       "      <td>77.02</td>\n",
       "      <td>87.98</td>\n",
       "      <td>18.06</td>\n",
       "      <td>39.39</td>\n",
       "      <td>13.28</td>\n",
       "    </tr>\n",
       "    <tr>\n",
       "      <th>2</th>\n",
       "      <td>2</td>\n",
       "      <td>Arunachal Pradesh</td>\n",
       "      <td>36.63</td>\n",
       "      <td>28.87</td>\n",
       "      <td>42.67</td>\n",
       "      <td>36.31</td>\n",
       "      <td>34.10</td>\n",
       "      <td>15.97</td>\n",
       "      <td>13.58</td>\n",
       "      <td>0.00</td>\n",
       "    </tr>\n",
       "    <tr>\n",
       "      <th>3</th>\n",
       "      <td>3</td>\n",
       "      <td>Assam</td>\n",
       "      <td>136.50</td>\n",
       "      <td>97.52</td>\n",
       "      <td>122.63</td>\n",
       "      <td>89.28</td>\n",
       "      <td>48.33</td>\n",
       "      <td>11.33</td>\n",
       "      <td>33.55</td>\n",
       "      <td>0.00</td>\n",
       "    </tr>\n",
       "    <tr>\n",
       "      <th>4</th>\n",
       "      <td>4</td>\n",
       "      <td>Bihar</td>\n",
       "      <td>104.77</td>\n",
       "      <td>88.68</td>\n",
       "      <td>121.68</td>\n",
       "      <td>97.29</td>\n",
       "      <td>38.86</td>\n",
       "      <td>20.92</td>\n",
       "      <td>24.71</td>\n",
       "      <td>0.02</td>\n",
       "    </tr>\n",
       "    <tr>\n",
       "      <th>5</th>\n",
       "      <td>5</td>\n",
       "      <td>Chhattisgarh</td>\n",
       "      <td>51.00</td>\n",
       "      <td>36.05</td>\n",
       "      <td>28.17</td>\n",
       "      <td>21.95</td>\n",
       "      <td>28.59</td>\n",
       "      <td>8.24</td>\n",
       "      <td>12.39</td>\n",
       "      <td>0.00</td>\n",
       "    </tr>\n",
       "  </tbody>\n",
       "</table>\n",
       "</div>"
      ],
      "text/plain": [
       "   Sl. No.             Region  Alloc17  Expd17  Alloc18  Expd18  Alloc19  \\\n",
       "1        1     Andhra Pradesh   129.87  123.10    83.52   77.02    87.98   \n",
       "2        2  Arunachal Pradesh    36.63   28.87    42.67   36.31    34.10   \n",
       "3        3              Assam   136.50   97.52   122.63   89.28    48.33   \n",
       "4        4              Bihar   104.77   88.68   121.68   97.29    38.86   \n",
       "5        5       Chhattisgarh    51.00   36.05    28.17   21.95    28.59   \n",
       "\n",
       "   Expd19  Alloc20  Expd20  \n",
       "1   18.06    39.39   13.28  \n",
       "2   15.97    13.58    0.00  \n",
       "3   11.33    33.55    0.00  \n",
       "4   20.92    24.71    0.02  \n",
       "5    8.24    12.39    0.00  "
      ]
     },
     "execution_count": 78,
     "metadata": {},
     "output_type": "execute_result"
    }
   ],
   "source": [
    "df4.head()"
   ]
  },
  {
   "cell_type": "code",
   "execution_count": 79,
   "metadata": {},
   "outputs": [
    {
     "data": {
      "text/html": [
       "<div>\n",
       "<style scoped>\n",
       "    .dataframe tbody tr th:only-of-type {\n",
       "        vertical-align: middle;\n",
       "    }\n",
       "\n",
       "    .dataframe tbody tr th {\n",
       "        vertical-align: top;\n",
       "    }\n",
       "\n",
       "    .dataframe thead th {\n",
       "        text-align: right;\n",
       "    }\n",
       "</style>\n",
       "<table border=\"1\" class=\"dataframe\">\n",
       "  <thead>\n",
       "    <tr style=\"text-align: right;\">\n",
       "      <th></th>\n",
       "      <th>Sl. No.</th>\n",
       "      <th>Region</th>\n",
       "      <th>Alloc17</th>\n",
       "      <th>Expd17</th>\n",
       "      <th>Alloc18</th>\n",
       "      <th>Expd18</th>\n",
       "      <th>Alloc19</th>\n",
       "      <th>Expd19</th>\n",
       "      <th>Alloc20</th>\n",
       "      <th>Expd20</th>\n",
       "    </tr>\n",
       "  </thead>\n",
       "  <tbody>\n",
       "    <tr>\n",
       "      <th>35</th>\n",
       "      <td>35</td>\n",
       "      <td>Puducherry</td>\n",
       "      <td>1.21</td>\n",
       "      <td>1.02</td>\n",
       "      <td>1.14</td>\n",
       "      <td>0.36</td>\n",
       "      <td>1.08</td>\n",
       "      <td>0.32</td>\n",
       "      <td>1.1</td>\n",
       "      <td>0.0</td>\n",
       "    </tr>\n",
       "    <tr>\n",
       "      <th>36</th>\n",
       "      <td>36</td>\n",
       "      <td>National Highways Authority of India (NHAI)*</td>\n",
       "      <td>100.00</td>\n",
       "      <td>100.00</td>\n",
       "      <td>575.00</td>\n",
       "      <td>575.00</td>\n",
       "      <td>272.19</td>\n",
       "      <td>272.19</td>\n",
       "      <td>50.0</td>\n",
       "      <td>0.0</td>\n",
       "    </tr>\n",
       "    <tr>\n",
       "      <th>37</th>\n",
       "      <td>37</td>\n",
       "      <td>National Highways &amp; Infrastructure Development...</td>\n",
       "      <td>52.00</td>\n",
       "      <td>52.00</td>\n",
       "      <td>125.00</td>\n",
       "      <td>125.00</td>\n",
       "      <td>100.00</td>\n",
       "      <td>100.00</td>\n",
       "      <td>25.0</td>\n",
       "      <td>0.0</td>\n",
       "    </tr>\n",
       "    <tr>\n",
       "      <th>38</th>\n",
       "      <td>38</td>\n",
       "      <td>Border Roads Organization (BRO)*</td>\n",
       "      <td>115.00</td>\n",
       "      <td>114.75</td>\n",
       "      <td>135.00</td>\n",
       "      <td>134.78</td>\n",
       "      <td>115.00</td>\n",
       "      <td>114.81</td>\n",
       "      <td>25.0</td>\n",
       "      <td>0.0</td>\n",
       "    </tr>\n",
       "    <tr>\n",
       "      <th>39</th>\n",
       "      <td>39</td>\n",
       "      <td>Bridge Management System</td>\n",
       "      <td>1.80</td>\n",
       "      <td>0.88</td>\n",
       "      <td>2.69</td>\n",
       "      <td>2.68</td>\n",
       "      <td>NaN</td>\n",
       "      <td>NaN</td>\n",
       "      <td>NaN</td>\n",
       "      <td>NaN</td>\n",
       "    </tr>\n",
       "  </tbody>\n",
       "</table>\n",
       "</div>"
      ],
      "text/plain": [
       "    Sl. No.                                             Region  Alloc17  \\\n",
       "35       35                                         Puducherry     1.21   \n",
       "36       36       National Highways Authority of India (NHAI)*   100.00   \n",
       "37       37  National Highways & Infrastructure Development...    52.00   \n",
       "38       38                   Border Roads Organization (BRO)*   115.00   \n",
       "39       39                           Bridge Management System     1.80   \n",
       "\n",
       "    Expd17  Alloc18  Expd18  Alloc19  Expd19  Alloc20  Expd20  \n",
       "35    1.02     1.14    0.36     1.08    0.32      1.1     0.0  \n",
       "36  100.00   575.00  575.00   272.19  272.19     50.0     0.0  \n",
       "37   52.00   125.00  125.00   100.00  100.00     25.0     0.0  \n",
       "38  114.75   135.00  134.78   115.00  114.81     25.0     0.0  \n",
       "39    0.88     2.69    2.68      NaN     NaN      NaN     NaN  "
      ]
     },
     "execution_count": 79,
     "metadata": {},
     "output_type": "execute_result"
    }
   ],
   "source": [
    "df4.tail()"
   ]
  },
  {
   "cell_type": "code",
   "execution_count": 80,
   "metadata": {},
   "outputs": [
    {
     "name": "stdout",
     "output_type": "stream",
     "text": [
      "<class 'pandas.core.frame.DataFrame'>\n",
      "RangeIndex: 39 entries, 1 to 39\n",
      "Data columns (total 10 columns):\n",
      " #   Column   Non-Null Count  Dtype  \n",
      "---  ------   --------------  -----  \n",
      " 0   Sl. No.  39 non-null     int64  \n",
      " 1   Region   39 non-null     object \n",
      " 2   Alloc17  39 non-null     float64\n",
      " 3   Expd17   39 non-null     float64\n",
      " 4   Alloc18  39 non-null     float64\n",
      " 5   Expd18   39 non-null     float64\n",
      " 6   Alloc19  38 non-null     float64\n",
      " 7   Expd19   38 non-null     float64\n",
      " 8   Alloc20  38 non-null     float64\n",
      " 9   Expd20   38 non-null     float64\n",
      "dtypes: float64(8), int64(1), object(1)\n",
      "memory usage: 3.2+ KB\n"
     ]
    }
   ],
   "source": [
    "df4.info()"
   ]
  },
  {
   "cell_type": "code",
   "execution_count": 81,
   "metadata": {},
   "outputs": [
    {
     "data": {
      "text/plain": [
       "Sl. No.    20.000\n",
       "Alloc17    57.830\n",
       "Expd17     60.170\n",
       "Alloc18    55.320\n",
       "Expd18     52.150\n",
       "Alloc19    41.915\n",
       "Expd19     19.490\n",
       "Alloc20    18.530\n",
       "Expd20      0.000\n",
       "dtype: float64"
      ]
     },
     "execution_count": 81,
     "metadata": {},
     "output_type": "execute_result"
    }
   ],
   "source": [
    "df4.median()"
   ]
  },
  {
   "cell_type": "code",
   "execution_count": 82,
   "metadata": {},
   "outputs": [
    {
     "data": {
      "text/html": [
       "<div>\n",
       "<style scoped>\n",
       "    .dataframe tbody tr th:only-of-type {\n",
       "        vertical-align: middle;\n",
       "    }\n",
       "\n",
       "    .dataframe tbody tr th {\n",
       "        vertical-align: top;\n",
       "    }\n",
       "\n",
       "    .dataframe thead th {\n",
       "        text-align: right;\n",
       "    }\n",
       "</style>\n",
       "<table border=\"1\" class=\"dataframe\">\n",
       "  <thead>\n",
       "    <tr style=\"text-align: right;\">\n",
       "      <th></th>\n",
       "      <th>Sl. No.</th>\n",
       "      <th>Alloc17</th>\n",
       "      <th>Expd17</th>\n",
       "      <th>Alloc18</th>\n",
       "      <th>Expd18</th>\n",
       "      <th>Alloc19</th>\n",
       "      <th>Expd19</th>\n",
       "      <th>Alloc20</th>\n",
       "      <th>Expd20</th>\n",
       "    </tr>\n",
       "  </thead>\n",
       "  <tbody>\n",
       "    <tr>\n",
       "      <th>count</th>\n",
       "      <td>39.000000</td>\n",
       "      <td>39.000000</td>\n",
       "      <td>39.000000</td>\n",
       "      <td>39.000000</td>\n",
       "      <td>39.000000</td>\n",
       "      <td>38.000000</td>\n",
       "      <td>38.000000</td>\n",
       "      <td>38.000000</td>\n",
       "      <td>38.000000</td>\n",
       "    </tr>\n",
       "    <tr>\n",
       "      <th>mean</th>\n",
       "      <td>20.000000</td>\n",
       "      <td>72.991795</td>\n",
       "      <td>64.179231</td>\n",
       "      <td>73.737179</td>\n",
       "      <td>66.120000</td>\n",
       "      <td>61.346842</td>\n",
       "      <td>41.582895</td>\n",
       "      <td>25.976316</td>\n",
       "      <td>0.635263</td>\n",
       "    </tr>\n",
       "    <tr>\n",
       "      <th>std</th>\n",
       "      <td>11.401754</td>\n",
       "      <td>65.639873</td>\n",
       "      <td>58.216331</td>\n",
       "      <td>96.776107</td>\n",
       "      <td>95.821137</td>\n",
       "      <td>75.209411</td>\n",
       "      <td>70.423879</td>\n",
       "      <td>38.190474</td>\n",
       "      <td>2.246561</td>\n",
       "    </tr>\n",
       "    <tr>\n",
       "      <th>min</th>\n",
       "      <td>1.000000</td>\n",
       "      <td>0.000000</td>\n",
       "      <td>0.000000</td>\n",
       "      <td>0.000000</td>\n",
       "      <td>0.000000</td>\n",
       "      <td>0.000000</td>\n",
       "      <td>0.000000</td>\n",
       "      <td>0.000000</td>\n",
       "      <td>0.000000</td>\n",
       "    </tr>\n",
       "    <tr>\n",
       "      <th>25%</th>\n",
       "      <td>10.500000</td>\n",
       "      <td>26.105000</td>\n",
       "      <td>8.875000</td>\n",
       "      <td>22.330000</td>\n",
       "      <td>13.380000</td>\n",
       "      <td>29.510000</td>\n",
       "      <td>8.465000</td>\n",
       "      <td>7.777500</td>\n",
       "      <td>0.000000</td>\n",
       "    </tr>\n",
       "    <tr>\n",
       "      <th>50%</th>\n",
       "      <td>20.000000</td>\n",
       "      <td>57.830000</td>\n",
       "      <td>60.170000</td>\n",
       "      <td>55.320000</td>\n",
       "      <td>52.150000</td>\n",
       "      <td>41.915000</td>\n",
       "      <td>19.490000</td>\n",
       "      <td>18.530000</td>\n",
       "      <td>0.000000</td>\n",
       "    </tr>\n",
       "    <tr>\n",
       "      <th>75%</th>\n",
       "      <td>29.500000</td>\n",
       "      <td>109.885000</td>\n",
       "      <td>96.830000</td>\n",
       "      <td>98.065000</td>\n",
       "      <td>82.965000</td>\n",
       "      <td>71.355000</td>\n",
       "      <td>37.312500</td>\n",
       "      <td>25.000000</td>\n",
       "      <td>0.017500</td>\n",
       "    </tr>\n",
       "    <tr>\n",
       "      <th>max</th>\n",
       "      <td>39.000000</td>\n",
       "      <td>319.230000</td>\n",
       "      <td>276.210000</td>\n",
       "      <td>575.000000</td>\n",
       "      <td>575.000000</td>\n",
       "      <td>387.900000</td>\n",
       "      <td>338.890000</td>\n",
       "      <td>226.800000</td>\n",
       "      <td>13.280000</td>\n",
       "    </tr>\n",
       "  </tbody>\n",
       "</table>\n",
       "</div>"
      ],
      "text/plain": [
       "         Sl. No.     Alloc17      Expd17     Alloc18      Expd18     Alloc19  \\\n",
       "count  39.000000   39.000000   39.000000   39.000000   39.000000   38.000000   \n",
       "mean   20.000000   72.991795   64.179231   73.737179   66.120000   61.346842   \n",
       "std    11.401754   65.639873   58.216331   96.776107   95.821137   75.209411   \n",
       "min     1.000000    0.000000    0.000000    0.000000    0.000000    0.000000   \n",
       "25%    10.500000   26.105000    8.875000   22.330000   13.380000   29.510000   \n",
       "50%    20.000000   57.830000   60.170000   55.320000   52.150000   41.915000   \n",
       "75%    29.500000  109.885000   96.830000   98.065000   82.965000   71.355000   \n",
       "max    39.000000  319.230000  276.210000  575.000000  575.000000  387.900000   \n",
       "\n",
       "           Expd19     Alloc20     Expd20  \n",
       "count   38.000000   38.000000  38.000000  \n",
       "mean    41.582895   25.976316   0.635263  \n",
       "std     70.423879   38.190474   2.246561  \n",
       "min      0.000000    0.000000   0.000000  \n",
       "25%      8.465000    7.777500   0.000000  \n",
       "50%     19.490000   18.530000   0.000000  \n",
       "75%     37.312500   25.000000   0.017500  \n",
       "max    338.890000  226.800000  13.280000  "
      ]
     },
     "execution_count": 82,
     "metadata": {},
     "output_type": "execute_result"
    }
   ],
   "source": [
    "df4.describe()"
   ]
  },
  {
   "cell_type": "code",
   "execution_count": 144,
   "metadata": {},
   "outputs": [
    {
     "data": {
      "image/png": "[encoded data removed]",
      "text/plain": [
       "<Figure size 432x288 with 8 Axes>"
      ]
     },
     "metadata": {
      "needs_background": "light"
     },
     "output_type": "display_data"
    }
   ],
   "source": [
    "plt.subplot(2,4,1)\n",
    "plt.hist('Alloc17', data = df4)\n",
    "plt.title(\"Alloc in 17\")\n",
    "\n",
    "plt.subplot(2,4,2)\n",
    "plt.hist('Expd17', data = df4)\n",
    "plt.title(\"Expd in 17\")\n",
    "\n",
    "plt.subplot(2,4,3)\n",
    "plt.hist('Alloc18', data = df4)\n",
    "plt.title(\"Alloc in 18\")\n",
    "\n",
    "plt.subplot(2,4,4)\n",
    "plt.hist('Expd18', data = df4)\n",
    "plt.title(\"Expd in 18\")\n",
    "\n",
    "plt.subplot(2,4,5)\n",
    "plt.hist('Alloc19', data = df4)\n",
    "plt.title(\"Alloc in 19\")\n",
    "\n",
    "plt.subplot(2,4,6)\n",
    "plt.hist('Expd19', data = df4)\n",
    "plt.title(\"Expd in 19\")\n",
    "plt.xlabel(\"Maintenance Funds in Crores of INR\", fontsize = 15)\n",
    "\n",
    "plt.subplot(2,4,7)\n",
    "plt.hist('Alloc20', data = df4)\n",
    "plt.title(\"Alloc in 20\")\n",
    "\n",
    "\n",
    "plt.subplot(2,4,8)\n",
    "plt.hist('Expd20', data = df4)\n",
    "plt.title(\"Expd in 20\")\n",
    "\n",
    "plt.subplots_adjust(top = 1, hspace = 0.5, wspace = 1)\n",
    "\n",
    "plt.show()\n"
   ]
  },
  {
   "cell_type": "markdown",
   "metadata": {},
   "source": [
    "# ***5) National highway projects under construction as of 31march 2019***"
   ]
  },
  {
   "cell_type": "code",
   "execution_count": 95,
   "metadata": {},
   "outputs": [],
   "source": [
    "df5.drop(['Total'], inplace = True)"
   ]
  },
  {
   "cell_type": "code",
   "execution_count": 90,
   "metadata": {},
   "outputs": [],
   "source": [
    "df5 = df5.rename(columns = {'State/UT':'Region', 'Total Ongoing Works - No.':'Projects', \n",
    "                            'Total Ongoing Works - Length (km)':'Projects_length',\n",
    "                            'Total Ongoing Works - Cost (Rs in Cr)':'Project_cost'})"
   ]
  },
  {
   "cell_type": "code",
   "execution_count": 96,
   "metadata": {},
   "outputs": [
    {
     "data": {
      "text/plain": [
       "(32, 4)"
      ]
     },
     "execution_count": 96,
     "metadata": {},
     "output_type": "execute_result"
    }
   ],
   "source": [
    "df5.shape"
   ]
  },
  {
   "cell_type": "code",
   "execution_count": 97,
   "metadata": {},
   "outputs": [
    {
     "data": {
      "text/plain": [
       "Index(['Region', 'Projects', 'Projects_length', 'Project_cost'], dtype='object')"
      ]
     },
     "execution_count": 97,
     "metadata": {},
     "output_type": "execute_result"
    }
   ],
   "source": [
    "df5.columns"
   ]
  },
  {
   "cell_type": "code",
   "execution_count": 98,
   "metadata": {},
   "outputs": [
    {
     "data": {
      "text/html": [
       "<div>\n",
       "<style scoped>\n",
       "    .dataframe tbody tr th:only-of-type {\n",
       "        vertical-align: middle;\n",
       "    }\n",
       "\n",
       "    .dataframe tbody tr th {\n",
       "        vertical-align: top;\n",
       "    }\n",
       "\n",
       "    .dataframe thead th {\n",
       "        text-align: right;\n",
       "    }\n",
       "</style>\n",
       "<table border=\"1\" class=\"dataframe\">\n",
       "  <thead>\n",
       "    <tr style=\"text-align: right;\">\n",
       "      <th></th>\n",
       "      <th>Region</th>\n",
       "      <th>Projects</th>\n",
       "      <th>Projects_length</th>\n",
       "      <th>Project_cost</th>\n",
       "    </tr>\n",
       "    <tr>\n",
       "      <th>S No</th>\n",
       "      <th></th>\n",
       "      <th></th>\n",
       "      <th></th>\n",
       "      <th></th>\n",
       "    </tr>\n",
       "  </thead>\n",
       "  <tbody>\n",
       "    <tr>\n",
       "      <th>1</th>\n",
       "      <td>Andhra Pradesh</td>\n",
       "      <td>63</td>\n",
       "      <td>2199.65</td>\n",
       "      <td>29415.19</td>\n",
       "    </tr>\n",
       "    <tr>\n",
       "      <th>2</th>\n",
       "      <td>A &amp; N Island</td>\n",
       "      <td>8</td>\n",
       "      <td>262.35</td>\n",
       "      <td>1813.74</td>\n",
       "    </tr>\n",
       "    <tr>\n",
       "      <th>3</th>\n",
       "      <td>Arunachal Pradesh</td>\n",
       "      <td>48</td>\n",
       "      <td>1227.28</td>\n",
       "      <td>11939.11</td>\n",
       "    </tr>\n",
       "    <tr>\n",
       "      <th>4</th>\n",
       "      <td>Assam</td>\n",
       "      <td>66</td>\n",
       "      <td>1505.99</td>\n",
       "      <td>12873.37</td>\n",
       "    </tr>\n",
       "    <tr>\n",
       "      <th>5</th>\n",
       "      <td>Bihar</td>\n",
       "      <td>66</td>\n",
       "      <td>2447.21</td>\n",
       "      <td>29040.18</td>\n",
       "    </tr>\n",
       "  </tbody>\n",
       "</table>\n",
       "</div>"
      ],
      "text/plain": [
       "                 Region  Projects  Projects_length  Project_cost\n",
       "S No                                                            \n",
       "1        Andhra Pradesh        63          2199.65      29415.19\n",
       "2          A & N Island         8           262.35       1813.74\n",
       "3     Arunachal Pradesh        48          1227.28      11939.11\n",
       "4                 Assam        66          1505.99      12873.37\n",
       "5                 Bihar        66          2447.21      29040.18"
      ]
     },
     "execution_count": 98,
     "metadata": {},
     "output_type": "execute_result"
    }
   ],
   "source": [
    "df5.head()"
   ]
  },
  {
   "cell_type": "code",
   "execution_count": 99,
   "metadata": {},
   "outputs": [
    {
     "data": {
      "text/html": [
       "<div>\n",
       "<style scoped>\n",
       "    .dataframe tbody tr th:only-of-type {\n",
       "        vertical-align: middle;\n",
       "    }\n",
       "\n",
       "    .dataframe tbody tr th {\n",
       "        vertical-align: top;\n",
       "    }\n",
       "\n",
       "    .dataframe thead th {\n",
       "        text-align: right;\n",
       "    }\n",
       "</style>\n",
       "<table border=\"1\" class=\"dataframe\">\n",
       "  <thead>\n",
       "    <tr style=\"text-align: right;\">\n",
       "      <th></th>\n",
       "      <th>Region</th>\n",
       "      <th>Projects</th>\n",
       "      <th>Projects_length</th>\n",
       "      <th>Project_cost</th>\n",
       "    </tr>\n",
       "    <tr>\n",
       "      <th>S No</th>\n",
       "      <th></th>\n",
       "      <th></th>\n",
       "      <th></th>\n",
       "      <th></th>\n",
       "    </tr>\n",
       "  </thead>\n",
       "  <tbody>\n",
       "    <tr>\n",
       "      <th>28</th>\n",
       "      <td>Telangana</td>\n",
       "      <td>38</td>\n",
       "      <td>1389.19</td>\n",
       "      <td>15651.65</td>\n",
       "    </tr>\n",
       "    <tr>\n",
       "      <th>29</th>\n",
       "      <td>Tripura</td>\n",
       "      <td>8</td>\n",
       "      <td>201.03</td>\n",
       "      <td>1374.93</td>\n",
       "    </tr>\n",
       "    <tr>\n",
       "      <th>30</th>\n",
       "      <td>Uttar Pradesh</td>\n",
       "      <td>67</td>\n",
       "      <td>3637.42</td>\n",
       "      <td>55388.84</td>\n",
       "    </tr>\n",
       "    <tr>\n",
       "      <th>31</th>\n",
       "      <td>Uttarakhand</td>\n",
       "      <td>61</td>\n",
       "      <td>1277.47</td>\n",
       "      <td>18144.91</td>\n",
       "    </tr>\n",
       "    <tr>\n",
       "      <th>32</th>\n",
       "      <td>West Bengal</td>\n",
       "      <td>51</td>\n",
       "      <td>1309.34</td>\n",
       "      <td>21811.81</td>\n",
       "    </tr>\n",
       "  </tbody>\n",
       "</table>\n",
       "</div>"
      ],
      "text/plain": [
       "             Region  Projects  Projects_length  Project_cost\n",
       "S No                                                        \n",
       "28        Telangana        38          1389.19      15651.65\n",
       "29          Tripura         8           201.03       1374.93\n",
       "30    Uttar Pradesh        67          3637.42      55388.84\n",
       "31      Uttarakhand        61          1277.47      18144.91\n",
       "32      West Bengal        51          1309.34      21811.81"
      ]
     },
     "execution_count": 99,
     "metadata": {},
     "output_type": "execute_result"
    }
   ],
   "source": [
    "df5.tail()"
   ]
  },
  {
   "cell_type": "code",
   "execution_count": 100,
   "metadata": {},
   "outputs": [
    {
     "name": "stdout",
     "output_type": "stream",
     "text": [
      "<class 'pandas.core.frame.DataFrame'>\n",
      "Index: 32 entries, 1 to 32\n",
      "Data columns (total 4 columns):\n",
      " #   Column           Non-Null Count  Dtype  \n",
      "---  ------           --------------  -----  \n",
      " 0   Region           32 non-null     object \n",
      " 1   Projects         32 non-null     int64  \n",
      " 2   Projects_length  32 non-null     float64\n",
      " 3   Project_cost     32 non-null     float64\n",
      "dtypes: float64(2), int64(1), object(1)\n",
      "memory usage: 1.2+ KB\n"
     ]
    }
   ],
   "source": [
    "df5.info()"
   ]
  },
  {
   "cell_type": "code",
   "execution_count": 101,
   "metadata": {},
   "outputs": [
    {
     "data": {
      "text/plain": [
       "Projects              46.000\n",
       "Projects_length     1252.375\n",
       "Project_cost       15951.760\n",
       "dtype: float64"
      ]
     },
     "execution_count": 101,
     "metadata": {},
     "output_type": "execute_result"
    }
   ],
   "source": [
    "df5.median()"
   ]
  },
  {
   "cell_type": "code",
   "execution_count": 102,
   "metadata": {},
   "outputs": [
    {
     "data": {
      "text/html": [
       "<div>\n",
       "<style scoped>\n",
       "    .dataframe tbody tr th:only-of-type {\n",
       "        vertical-align: middle;\n",
       "    }\n",
       "\n",
       "    .dataframe tbody tr th {\n",
       "        vertical-align: top;\n",
       "    }\n",
       "\n",
       "    .dataframe thead th {\n",
       "        text-align: right;\n",
       "    }\n",
       "</style>\n",
       "<table border=\"1\" class=\"dataframe\">\n",
       "  <thead>\n",
       "    <tr style=\"text-align: right;\">\n",
       "      <th></th>\n",
       "      <th>Projects</th>\n",
       "      <th>Projects_length</th>\n",
       "      <th>Project_cost</th>\n",
       "    </tr>\n",
       "  </thead>\n",
       "  <tbody>\n",
       "    <tr>\n",
       "      <th>count</th>\n",
       "      <td>32.000000</td>\n",
       "      <td>32.000000</td>\n",
       "      <td>32.000000</td>\n",
       "    </tr>\n",
       "    <tr>\n",
       "      <th>mean</th>\n",
       "      <td>46.718750</td>\n",
       "      <td>1654.615937</td>\n",
       "      <td>19301.289375</td>\n",
       "    </tr>\n",
       "    <tr>\n",
       "      <th>std</th>\n",
       "      <td>39.318578</td>\n",
       "      <td>1838.251415</td>\n",
       "      <td>20206.710291</td>\n",
       "    </tr>\n",
       "    <tr>\n",
       "      <th>min</th>\n",
       "      <td>2.000000</td>\n",
       "      <td>0.000000</td>\n",
       "      <td>38.890000</td>\n",
       "    </tr>\n",
       "    <tr>\n",
       "      <th>25%</th>\n",
       "      <td>21.250000</td>\n",
       "      <td>400.037500</td>\n",
       "      <td>6509.450000</td>\n",
       "    </tr>\n",
       "    <tr>\n",
       "      <th>50%</th>\n",
       "      <td>46.000000</td>\n",
       "      <td>1252.375000</td>\n",
       "      <td>15951.760000</td>\n",
       "    </tr>\n",
       "    <tr>\n",
       "      <th>75%</th>\n",
       "      <td>63.000000</td>\n",
       "      <td>2460.640000</td>\n",
       "      <td>26245.560000</td>\n",
       "    </tr>\n",
       "    <tr>\n",
       "      <th>max</th>\n",
       "      <td>219.000000</td>\n",
       "      <td>9450.540000</td>\n",
       "      <td>105306.240000</td>\n",
       "    </tr>\n",
       "  </tbody>\n",
       "</table>\n",
       "</div>"
      ],
      "text/plain": [
       "         Projects  Projects_length   Project_cost\n",
       "count   32.000000        32.000000      32.000000\n",
       "mean    46.718750      1654.615937   19301.289375\n",
       "std     39.318578      1838.251415   20206.710291\n",
       "min      2.000000         0.000000      38.890000\n",
       "25%     21.250000       400.037500    6509.450000\n",
       "50%     46.000000      1252.375000   15951.760000\n",
       "75%     63.000000      2460.640000   26245.560000\n",
       "max    219.000000      9450.540000  105306.240000"
      ]
     },
     "execution_count": 102,
     "metadata": {},
     "output_type": "execute_result"
    }
   ],
   "source": [
    "df5.describe()"
   ]
  },
  {
   "cell_type": "code",
   "execution_count": 111,
   "metadata": {},
   "outputs": [
    {
     "data": {
      "image/png": "[encoded data removed]",
      "text/plain": [
       "<Figure size 432x288 with 3 Axes>"
      ]
     },
     "metadata": {
      "needs_background": "light"
     },
     "output_type": "display_data"
    }
   ],
   "source": [
    "plt.subplot(1,3,1)\n",
    "plt.hist('Projects', data = df5)\n",
    "plt.xlabel(\"Projects\")\n",
    "\n",
    "plt.subplot(1,3,2)\n",
    "plt.hist('Projects_length', data = df5)\n",
    "plt.title(\"Project details\", fontsize = 15)\n",
    "plt.xlabel(\"Project length\")\n",
    "\n",
    "plt.subplot(1,3,3)\n",
    "plt.hist('Project_cost', data = df5)\n",
    "plt.xlabel(\"Project cost\")\n",
    "\n",
    "plt.subplots_adjust(hspace = 0.5, wspace = 1)\n",
    "\n",
    "plt.show()"
   ]
  },
  {
   "cell_type": "markdown",
   "metadata": {},
   "source": [
    "# ***6) Persons killed in road accidents***"
   ]
  },
  {
   "cell_type": "code",
   "execution_count": 119,
   "metadata": {},
   "outputs": [],
   "source": [
    "df6.drop(['Total'], inplace = True)"
   ]
  },
  {
   "cell_type": "code",
   "execution_count": 120,
   "metadata": {},
   "outputs": [],
   "source": [
    "df6 = df6.rename(columns = {'States/UTs':'Region', '2015':'year2015', '2016':'year2016', '2017':'year2017'})"
   ]
  },
  {
   "cell_type": "code",
   "execution_count": 121,
   "metadata": {},
   "outputs": [
    {
     "data": {
      "text/plain": [
       "Index(['Region', 'year2015', 'year2016', 'year2017'], dtype='object')"
      ]
     },
     "execution_count": 121,
     "metadata": {},
     "output_type": "execute_result"
    }
   ],
   "source": [
    "df6.columns"
   ]
  },
  {
   "cell_type": "code",
   "execution_count": 122,
   "metadata": {},
   "outputs": [
    {
     "data": {
      "text/plain": [
       "(36, 4)"
      ]
     },
     "execution_count": 122,
     "metadata": {},
     "output_type": "execute_result"
    }
   ],
   "source": [
    "df6.shape"
   ]
  },
  {
   "cell_type": "code",
   "execution_count": 123,
   "metadata": {},
   "outputs": [
    {
     "data": {
      "text/html": [
       "<div>\n",
       "<style scoped>\n",
       "    .dataframe tbody tr th:only-of-type {\n",
       "        vertical-align: middle;\n",
       "    }\n",
       "\n",
       "    .dataframe tbody tr th {\n",
       "        vertical-align: top;\n",
       "    }\n",
       "\n",
       "    .dataframe thead th {\n",
       "        text-align: right;\n",
       "    }\n",
       "</style>\n",
       "<table border=\"1\" class=\"dataframe\">\n",
       "  <thead>\n",
       "    <tr style=\"text-align: right;\">\n",
       "      <th></th>\n",
       "      <th>Region</th>\n",
       "      <th>year2015</th>\n",
       "      <th>year2016</th>\n",
       "      <th>year2017</th>\n",
       "    </tr>\n",
       "    <tr>\n",
       "      <th>Sl. No.</th>\n",
       "      <th></th>\n",
       "      <th></th>\n",
       "      <th></th>\n",
       "      <th></th>\n",
       "    </tr>\n",
       "  </thead>\n",
       "  <tbody>\n",
       "    <tr>\n",
       "      <th>1</th>\n",
       "      <td>Andhra Pradesh</td>\n",
       "      <td>8297</td>\n",
       "      <td>8541</td>\n",
       "      <td>8060</td>\n",
       "    </tr>\n",
       "    <tr>\n",
       "      <th>2</th>\n",
       "      <td>Arunachal Pradesh</td>\n",
       "      <td>127</td>\n",
       "      <td>149</td>\n",
       "      <td>110</td>\n",
       "    </tr>\n",
       "    <tr>\n",
       "      <th>3</th>\n",
       "      <td>Assam</td>\n",
       "      <td>2397</td>\n",
       "      <td>2572</td>\n",
       "      <td>2783</td>\n",
       "    </tr>\n",
       "    <tr>\n",
       "      <th>4</th>\n",
       "      <td>Bihar</td>\n",
       "      <td>5421</td>\n",
       "      <td>4901</td>\n",
       "      <td>5554</td>\n",
       "    </tr>\n",
       "    <tr>\n",
       "      <th>5</th>\n",
       "      <td>Chhattisgarh</td>\n",
       "      <td>4082</td>\n",
       "      <td>3908</td>\n",
       "      <td>4136</td>\n",
       "    </tr>\n",
       "  </tbody>\n",
       "</table>\n",
       "</div>"
      ],
      "text/plain": [
       "                    Region  year2015  year2016  year2017\n",
       "Sl. No.                                                 \n",
       "1           Andhra Pradesh      8297      8541      8060\n",
       "2        Arunachal Pradesh       127       149       110\n",
       "3                    Assam      2397      2572      2783\n",
       "4                    Bihar      5421      4901      5554\n",
       "5             Chhattisgarh      4082      3908      4136"
      ]
     },
     "execution_count": 123,
     "metadata": {},
     "output_type": "execute_result"
    }
   ],
   "source": [
    "df6.head()"
   ]
  },
  {
   "cell_type": "code",
   "execution_count": 124,
   "metadata": {},
   "outputs": [
    {
     "data": {
      "text/html": [
       "<div>\n",
       "<style scoped>\n",
       "    .dataframe tbody tr th:only-of-type {\n",
       "        vertical-align: middle;\n",
       "    }\n",
       "\n",
       "    .dataframe tbody tr th {\n",
       "        vertical-align: top;\n",
       "    }\n",
       "\n",
       "    .dataframe thead th {\n",
       "        text-align: right;\n",
       "    }\n",
       "</style>\n",
       "<table border=\"1\" class=\"dataframe\">\n",
       "  <thead>\n",
       "    <tr style=\"text-align: right;\">\n",
       "      <th></th>\n",
       "      <th>Region</th>\n",
       "      <th>year2015</th>\n",
       "      <th>year2016</th>\n",
       "      <th>year2017</th>\n",
       "    </tr>\n",
       "    <tr>\n",
       "      <th>Sl. No.</th>\n",
       "      <th></th>\n",
       "      <th></th>\n",
       "      <th></th>\n",
       "      <th></th>\n",
       "    </tr>\n",
       "  </thead>\n",
       "  <tbody>\n",
       "    <tr>\n",
       "      <th>32</th>\n",
       "      <td>Dadra &amp; Nagar Haveli</td>\n",
       "      <td>42</td>\n",
       "      <td>46</td>\n",
       "      <td>43</td>\n",
       "    </tr>\n",
       "    <tr>\n",
       "      <th>33</th>\n",
       "      <td>Daman &amp; Diu</td>\n",
       "      <td>42</td>\n",
       "      <td>38</td>\n",
       "      <td>36</td>\n",
       "    </tr>\n",
       "    <tr>\n",
       "      <th>34</th>\n",
       "      <td>Delhi</td>\n",
       "      <td>1622</td>\n",
       "      <td>1591</td>\n",
       "      <td>1584</td>\n",
       "    </tr>\n",
       "    <tr>\n",
       "      <th>35</th>\n",
       "      <td>Lakshadweep</td>\n",
       "      <td>0</td>\n",
       "      <td>1</td>\n",
       "      <td>0</td>\n",
       "    </tr>\n",
       "    <tr>\n",
       "      <th>36</th>\n",
       "      <td>Puducherry</td>\n",
       "      <td>235</td>\n",
       "      <td>244</td>\n",
       "      <td>233</td>\n",
       "    </tr>\n",
       "  </tbody>\n",
       "</table>\n",
       "</div>"
      ],
      "text/plain": [
       "                       Region  year2015  year2016  year2017\n",
       "Sl. No.                                                    \n",
       "32       Dadra & Nagar Haveli        42        46        43\n",
       "33                Daman & Diu        42        38        36\n",
       "34                      Delhi      1622      1591      1584\n",
       "35                Lakshadweep         0         1         0\n",
       "36                 Puducherry       235       244       233"
      ]
     },
     "execution_count": 124,
     "metadata": {},
     "output_type": "execute_result"
    }
   ],
   "source": [
    "df6.tail()"
   ]
  },
  {
   "cell_type": "code",
   "execution_count": 125,
   "metadata": {},
   "outputs": [
    {
     "name": "stdout",
     "output_type": "stream",
     "text": [
      "<class 'pandas.core.frame.DataFrame'>\n",
      "Index: 36 entries, 1 to 36\n",
      "Data columns (total 4 columns):\n",
      " #   Column    Non-Null Count  Dtype \n",
      "---  ------    --------------  ----- \n",
      " 0   Region    36 non-null     object\n",
      " 1   year2015  36 non-null     int64 \n",
      " 2   year2016  36 non-null     int64 \n",
      " 3   year2017  36 non-null     int64 \n",
      "dtypes: int64(3), object(1)\n",
      "memory usage: 1.4+ KB\n"
     ]
    }
   ],
   "source": [
    "df6.info()"
   ]
  },
  {
   "cell_type": "code",
   "execution_count": 126,
   "metadata": {},
   "outputs": [
    {
     "data": {
      "text/plain": [
       "year2015    2009.5\n",
       "year2016    2081.5\n",
       "year2017    2183.5\n",
       "dtype: float64"
      ]
     },
     "execution_count": 126,
     "metadata": {},
     "output_type": "execute_result"
    }
   ],
   "source": [
    "df6.median()"
   ]
  },
  {
   "cell_type": "code",
   "execution_count": 127,
   "metadata": {},
   "outputs": [
    {
     "data": {
      "text/html": [
       "<div>\n",
       "<style scoped>\n",
       "    .dataframe tbody tr th:only-of-type {\n",
       "        vertical-align: middle;\n",
       "    }\n",
       "\n",
       "    .dataframe tbody tr th {\n",
       "        vertical-align: top;\n",
       "    }\n",
       "\n",
       "    .dataframe thead th {\n",
       "        text-align: right;\n",
       "    }\n",
       "</style>\n",
       "<table border=\"1\" class=\"dataframe\">\n",
       "  <thead>\n",
       "    <tr style=\"text-align: right;\">\n",
       "      <th></th>\n",
       "      <th>year2015</th>\n",
       "      <th>year2016</th>\n",
       "      <th>year2017</th>\n",
       "    </tr>\n",
       "  </thead>\n",
       "  <tbody>\n",
       "    <tr>\n",
       "      <th>count</th>\n",
       "      <td>36.000000</td>\n",
       "      <td>36.000000</td>\n",
       "      <td>36.000000</td>\n",
       "    </tr>\n",
       "    <tr>\n",
       "      <th>mean</th>\n",
       "      <td>4059.250000</td>\n",
       "      <td>4188.472222</td>\n",
       "      <td>4108.694444</td>\n",
       "    </tr>\n",
       "    <tr>\n",
       "      <th>std</th>\n",
       "      <td>4861.452954</td>\n",
       "      <td>5117.844231</td>\n",
       "      <td>5034.743658</td>\n",
       "    </tr>\n",
       "    <tr>\n",
       "      <th>min</th>\n",
       "      <td>0.000000</td>\n",
       "      <td>1.000000</td>\n",
       "      <td>0.000000</td>\n",
       "    </tr>\n",
       "    <tr>\n",
       "      <th>25%</th>\n",
       "      <td>136.500000</td>\n",
       "      <td>149.750000</td>\n",
       "      <td>129.500000</td>\n",
       "    </tr>\n",
       "    <tr>\n",
       "      <th>50%</th>\n",
       "      <td>2009.500000</td>\n",
       "      <td>2081.500000</td>\n",
       "      <td>2183.500000</td>\n",
       "    </tr>\n",
       "    <tr>\n",
       "      <th>75%</th>\n",
       "      <td>6453.000000</td>\n",
       "      <td>6712.750000</td>\n",
       "      <td>5975.750000</td>\n",
       "    </tr>\n",
       "    <tr>\n",
       "      <th>max</th>\n",
       "      <td>17666.000000</td>\n",
       "      <td>19320.000000</td>\n",
       "      <td>20124.000000</td>\n",
       "    </tr>\n",
       "  </tbody>\n",
       "</table>\n",
       "</div>"
      ],
      "text/plain": [
       "           year2015      year2016      year2017\n",
       "count     36.000000     36.000000     36.000000\n",
       "mean    4059.250000   4188.472222   4108.694444\n",
       "std     4861.452954   5117.844231   5034.743658\n",
       "min        0.000000      1.000000      0.000000\n",
       "25%      136.500000    149.750000    129.500000\n",
       "50%     2009.500000   2081.500000   2183.500000\n",
       "75%     6453.000000   6712.750000   5975.750000\n",
       "max    17666.000000  19320.000000  20124.000000"
      ]
     },
     "execution_count": 127,
     "metadata": {},
     "output_type": "execute_result"
    }
   ],
   "source": [
    "df6.describe()"
   ]
  },
  {
   "cell_type": "code",
   "execution_count": 149,
   "metadata": {},
   "outputs": [
    {
     "data": {
      "image/png": "[encoded data removed]",
      "text/plain": [
       "<Figure size 432x288 with 3 Axes>"
      ]
     },
     "metadata": {
      "needs_background": "light"
     },
     "output_type": "display_data"
    }
   ],
   "source": [
    "plt.subplot(1,3,1)\n",
    "plt.hist('year2015', data = df6)\n",
    "plt.title(\"Year 2015\")\n",
    "\n",
    "plt.subplot(1,3,2)\n",
    "plt.hist('year2016', data = df6)\n",
    "plt.title(\"Year 2016\")\n",
    "plt.xlabel(\"Death due to road accidents\", fontsize = 15)\n",
    "\n",
    "plt.subplot(1,3,3)\n",
    "plt.hist('year2017', data = df6)\n",
    "plt.title(\"Year 2017\")\n",
    "\n",
    "plt.subplots_adjust(right = 3, wspace = 0.2)\n",
    "\n",
    "plt.show()"
   ]
  },
  {
   "cell_type": "markdown",
   "metadata": {},
   "source": [
    "# 7) Registered vehicles per 100km"
   ]
  },
  {
   "cell_type": "code",
   "execution_count": 11,
   "metadata": {},
   "outputs": [
    {
     "data": {
      "text/plain": [
       "(32, 4)"
      ]
     },
     "execution_count": 11,
     "metadata": {},
     "output_type": "execute_result"
    }
   ],
   "source": [
    "df7.shape"
   ]
  },
  {
   "cell_type": "code",
   "execution_count": 12,
   "metadata": {},
   "outputs": [
    {
     "name": "stdout",
     "output_type": "stream",
     "text": [
      "<class 'pandas.core.frame.DataFrame'>\n",
      "RangeIndex: 32 entries, 0 to 31\n",
      "Data columns (total 4 columns):\n",
      "State/UT      32 non-null object\n",
      "2004-2014     32 non-null float64\n",
      "State/UT.1    32 non-null object\n",
      "2005-2015     32 non-null float64\n",
      "dtypes: float64(2), object(2)\n",
      "memory usage: 1.1+ KB\n"
     ]
    }
   ],
   "source": [
    "df7.info()"
   ]
  },
  {
   "cell_type": "code",
   "execution_count": 13,
   "metadata": {},
   "outputs": [
    {
     "data": {
      "text/html": [
       "<div>\n",
       "<style scoped>\n",
       "    .dataframe tbody tr th:only-of-type {\n",
       "        vertical-align: middle;\n",
       "    }\n",
       "\n",
       "    .dataframe tbody tr th {\n",
       "        vertical-align: top;\n",
       "    }\n",
       "\n",
       "    .dataframe thead th {\n",
       "        text-align: right;\n",
       "    }\n",
       "</style>\n",
       "<table border=\"1\" class=\"dataframe\">\n",
       "  <thead>\n",
       "    <tr style=\"text-align: right;\">\n",
       "      <th></th>\n",
       "      <th>2004-2014</th>\n",
       "      <th>2005-2015</th>\n",
       "    </tr>\n",
       "  </thead>\n",
       "  <tbody>\n",
       "    <tr>\n",
       "      <th>count</th>\n",
       "      <td>32.00000</td>\n",
       "      <td>32.000000</td>\n",
       "    </tr>\n",
       "    <tr>\n",
       "      <th>mean</th>\n",
       "      <td>10.46875</td>\n",
       "      <td>10.118750</td>\n",
       "    </tr>\n",
       "    <tr>\n",
       "      <th>std</th>\n",
       "      <td>3.24956</td>\n",
       "      <td>2.709534</td>\n",
       "    </tr>\n",
       "    <tr>\n",
       "      <th>min</th>\n",
       "      <td>0.70000</td>\n",
       "      <td>0.900000</td>\n",
       "    </tr>\n",
       "    <tr>\n",
       "      <th>25%</th>\n",
       "      <td>9.17500</td>\n",
       "      <td>9.000000</td>\n",
       "    </tr>\n",
       "    <tr>\n",
       "      <th>50%</th>\n",
       "      <td>11.10000</td>\n",
       "      <td>10.650000</td>\n",
       "    </tr>\n",
       "    <tr>\n",
       "      <th>75%</th>\n",
       "      <td>12.37500</td>\n",
       "      <td>11.825000</td>\n",
       "    </tr>\n",
       "    <tr>\n",
       "      <th>max</th>\n",
       "      <td>18.70000</td>\n",
       "      <td>14.500000</td>\n",
       "    </tr>\n",
       "  </tbody>\n",
       "</table>\n",
       "</div>"
      ],
      "text/plain": [
       "       2004-2014  2005-2015\n",
       "count   32.00000  32.000000\n",
       "mean    10.46875  10.118750\n",
       "std      3.24956   2.709534\n",
       "min      0.70000   0.900000\n",
       "25%      9.17500   9.000000\n",
       "50%     11.10000  10.650000\n",
       "75%     12.37500  11.825000\n",
       "max     18.70000  14.500000"
      ]
     },
     "execution_count": 13,
     "metadata": {},
     "output_type": "execute_result"
    }
   ],
   "source": [
    "df7.describe()"
   ]
  },
  {
   "cell_type": "code",
   "execution_count": 14,
   "metadata": {},
   "outputs": [],
   "source": [
    "df7.index = df7.index+1"
   ]
  },
  {
   "cell_type": "code",
   "execution_count": 15,
   "metadata": {},
   "outputs": [
    {
     "data": {
      "text/html": [
       "<div>\n",
       "<style scoped>\n",
       "    .dataframe tbody tr th:only-of-type {\n",
       "        vertical-align: middle;\n",
       "    }\n",
       "\n",
       "    .dataframe tbody tr th {\n",
       "        vertical-align: top;\n",
       "    }\n",
       "\n",
       "    .dataframe thead th {\n",
       "        text-align: right;\n",
       "    }\n",
       "</style>\n",
       "<table border=\"1\" class=\"dataframe\">\n",
       "  <thead>\n",
       "    <tr style=\"text-align: right;\">\n",
       "      <th></th>\n",
       "      <th>State/UT</th>\n",
       "      <th>2004-2014</th>\n",
       "      <th>State/UT.1</th>\n",
       "      <th>2005-2015</th>\n",
       "    </tr>\n",
       "  </thead>\n",
       "  <tbody>\n",
       "    <tr>\n",
       "      <th>1</th>\n",
       "      <td>Bihar</td>\n",
       "      <td>18.7</td>\n",
       "      <td>Tripura</td>\n",
       "      <td>14.5</td>\n",
       "    </tr>\n",
       "    <tr>\n",
       "      <th>2</th>\n",
       "      <td>Manipur</td>\n",
       "      <td>14.0</td>\n",
       "      <td>Himachal Pradesh</td>\n",
       "      <td>13.6</td>\n",
       "    </tr>\n",
       "    <tr>\n",
       "      <th>3</th>\n",
       "      <td>Meghalaya</td>\n",
       "      <td>13.0</td>\n",
       "      <td>Bihar</td>\n",
       "      <td>13.5</td>\n",
       "    </tr>\n",
       "    <tr>\n",
       "      <th>4</th>\n",
       "      <td>Himachal Pradesh</td>\n",
       "      <td>12.9</td>\n",
       "      <td>Mizoram</td>\n",
       "      <td>12.5</td>\n",
       "    </tr>\n",
       "    <tr>\n",
       "      <th>5</th>\n",
       "      <td>Tripura</td>\n",
       "      <td>12.9</td>\n",
       "      <td>Uttarakhand</td>\n",
       "      <td>12.3</td>\n",
       "    </tr>\n",
       "  </tbody>\n",
       "</table>\n",
       "</div>"
      ],
      "text/plain": [
       "           State/UT  2004-2014        State/UT.1  2005-2015\n",
       "1             Bihar       18.7           Tripura       14.5\n",
       "2           Manipur       14.0  Himachal Pradesh       13.6\n",
       "3         Meghalaya       13.0             Bihar       13.5\n",
       "4  Himachal Pradesh       12.9           Mizoram       12.5\n",
       "5           Tripura       12.9       Uttarakhand       12.3"
      ]
     },
     "execution_count": 15,
     "metadata": {},
     "output_type": "execute_result"
    }
   ],
   "source": [
    "df7.head()"
   ]
  },
  {
   "cell_type": "code",
   "execution_count": 16,
   "metadata": {},
   "outputs": [],
   "source": [
    "df7 = df7.rename(columns = {'State/UT':'Region','2004-2014':'DataFrom2004-2014','State/UT.1':'Region1','2005-2015':'DataFrom2005-2015'})"
   ]
  },
  {
   "cell_type": "code",
   "execution_count": 17,
   "metadata": {},
   "outputs": [
    {
     "data": {
      "text/html": [
       "<div>\n",
       "<style scoped>\n",
       "    .dataframe tbody tr th:only-of-type {\n",
       "        vertical-align: middle;\n",
       "    }\n",
       "\n",
       "    .dataframe tbody tr th {\n",
       "        vertical-align: top;\n",
       "    }\n",
       "\n",
       "    .dataframe thead th {\n",
       "        text-align: right;\n",
       "    }\n",
       "</style>\n",
       "<table border=\"1\" class=\"dataframe\">\n",
       "  <thead>\n",
       "    <tr style=\"text-align: right;\">\n",
       "      <th></th>\n",
       "      <th>Region</th>\n",
       "      <th>DataFrom2004-2014</th>\n",
       "      <th>Region1</th>\n",
       "      <th>DataFrom2005-2015</th>\n",
       "    </tr>\n",
       "  </thead>\n",
       "  <tbody>\n",
       "    <tr>\n",
       "      <th>28</th>\n",
       "      <td>Daman &amp; Diu</td>\n",
       "      <td>7.1</td>\n",
       "      <td>Delhi</td>\n",
       "      <td>7.8</td>\n",
       "    </tr>\n",
       "    <tr>\n",
       "      <th>29</th>\n",
       "      <td>Delhi</td>\n",
       "      <td>6.9</td>\n",
       "      <td>Daman &amp; Diu</td>\n",
       "      <td>7.1</td>\n",
       "    </tr>\n",
       "    <tr>\n",
       "      <th>30</th>\n",
       "      <td>Nagaland</td>\n",
       "      <td>6.3</td>\n",
       "      <td>Nagaland</td>\n",
       "      <td>6.8</td>\n",
       "    </tr>\n",
       "    <tr>\n",
       "      <th>31</th>\n",
       "      <td>Jharkhand</td>\n",
       "      <td>3.5</td>\n",
       "      <td>Jharkhand</td>\n",
       "      <td>4.3</td>\n",
       "    </tr>\n",
       "    <tr>\n",
       "      <th>32</th>\n",
       "      <td>Chandigarh</td>\n",
       "      <td>0.7</td>\n",
       "      <td>Chandigarh</td>\n",
       "      <td>0.9</td>\n",
       "    </tr>\n",
       "  </tbody>\n",
       "</table>\n",
       "</div>"
      ],
      "text/plain": [
       "         Region  DataFrom2004-2014      Region1  DataFrom2005-2015\n",
       "28  Daman & Diu                7.1        Delhi                7.8\n",
       "29        Delhi                6.9  Daman & Diu                7.1\n",
       "30     Nagaland                6.3     Nagaland                6.8\n",
       "31    Jharkhand                3.5    Jharkhand                4.3\n",
       "32   Chandigarh                0.7   Chandigarh                0.9"
      ]
     },
     "execution_count": 17,
     "metadata": {},
     "output_type": "execute_result"
    }
   ],
   "source": [
    "df7.tail()"
   ]
  },
  {
   "cell_type": "code",
   "execution_count": 18,
   "metadata": {},
   "outputs": [
    {
     "data": {
      "text/plain": [
       "DataFrom2004-2014    11.10\n",
       "DataFrom2005-2015    10.65\n",
       "dtype: float64"
      ]
     },
     "execution_count": 18,
     "metadata": {},
     "output_type": "execute_result"
    }
   ],
   "source": [
    "df7.median()"
   ]
  },
  {
   "cell_type": "code",
   "execution_count": 19,
   "metadata": {},
   "outputs": [
    {
     "data": {
      "image/png": "[encoded data removed]",
      "text/plain": [
       "<Figure size 432x288 with 2 Axes>"
      ]
     },
     "metadata": {
      "needs_background": "light"
     },
     "output_type": "display_data"
    }
   ],
   "source": [
    "plt.subplot(3,2,1)\n",
    "plt.hist('DataFrom2004-2014', data = df7)\n",
    "plt.title(\"2004-2014\")\n",
    "\n",
    "plt.subplot(3,2,3)\n",
    "plt.hist('DataFrom2005-2015', data = df7)\n",
    "plt.title(\"2005-2015\")\n",
    "\n",
    "\n",
    "plt.subplots_adjust(top = 0.99, bottom=0.01, hspace=1.5, wspace=0.4)\n",
    "plt.subplots_adjust(wspace = 1)\n",
    "\n",
    "plt.show()"
   ]
  },
  {
   "cell_type": "markdown",
   "metadata": {},
   "source": [
    "#  8) Road Accidents by districts 2019 TamilNadu "
   ]
  },
  {
   "cell_type": "code",
   "execution_count": 21,
   "metadata": {},
   "outputs": [
    {
     "data": {
      "text/plain": [
       "(41, 5)"
      ]
     },
     "execution_count": 21,
     "metadata": {},
     "output_type": "execute_result"
    }
   ],
   "source": [
    "df8.shape"
   ]
  },
  {
   "cell_type": "code",
   "execution_count": 22,
   "metadata": {},
   "outputs": [
    {
     "data": {
      "text/html": [
       "<div>\n",
       "<style scoped>\n",
       "    .dataframe tbody tr th:only-of-type {\n",
       "        vertical-align: middle;\n",
       "    }\n",
       "\n",
       "    .dataframe tbody tr th {\n",
       "        vertical-align: top;\n",
       "    }\n",
       "\n",
       "    .dataframe thead th {\n",
       "        text-align: right;\n",
       "    }\n",
       "</style>\n",
       "<table border=\"1\" class=\"dataframe\">\n",
       "  <thead>\n",
       "    <tr style=\"text-align: right;\">\n",
       "      <th></th>\n",
       "      <th>Total Number of Accidents (2018)</th>\n",
       "      <th>Number of Persons Injured (2018)</th>\n",
       "      <th>Number of Persons Killed (2018)</th>\n",
       "    </tr>\n",
       "  </thead>\n",
       "  <tbody>\n",
       "    <tr>\n",
       "      <th>count</th>\n",
       "      <td>41.000000</td>\n",
       "      <td>41.000000</td>\n",
       "      <td>41.000000</td>\n",
       "    </tr>\n",
       "    <tr>\n",
       "      <th>mean</th>\n",
       "      <td>3118.048780</td>\n",
       "      <td>3635.951220</td>\n",
       "      <td>595.902439</td>\n",
       "    </tr>\n",
       "    <tr>\n",
       "      <th>std</th>\n",
       "      <td>9814.939709</td>\n",
       "      <td>11428.980066</td>\n",
       "      <td>1874.486487</td>\n",
       "    </tr>\n",
       "    <tr>\n",
       "      <th>min</th>\n",
       "      <td>3.000000</td>\n",
       "      <td>4.000000</td>\n",
       "      <td>0.000000</td>\n",
       "    </tr>\n",
       "    <tr>\n",
       "      <th>25%</th>\n",
       "      <td>962.000000</td>\n",
       "      <td>1045.000000</td>\n",
       "      <td>153.000000</td>\n",
       "    </tr>\n",
       "    <tr>\n",
       "      <th>50%</th>\n",
       "      <td>1386.000000</td>\n",
       "      <td>1578.000000</td>\n",
       "      <td>244.000000</td>\n",
       "    </tr>\n",
       "    <tr>\n",
       "      <th>75%</th>\n",
       "      <td>2055.000000</td>\n",
       "      <td>2252.000000</td>\n",
       "      <td>425.000000</td>\n",
       "    </tr>\n",
       "    <tr>\n",
       "      <th>max</th>\n",
       "      <td>63920.000000</td>\n",
       "      <td>74537.000000</td>\n",
       "      <td>12216.000000</td>\n",
       "    </tr>\n",
       "  </tbody>\n",
       "</table>\n",
       "</div>"
      ],
      "text/plain": [
       "       Total Number of Accidents (2018)  Number of Persons Injured (2018)  \\\n",
       "count                         41.000000                         41.000000   \n",
       "mean                        3118.048780                       3635.951220   \n",
       "std                         9814.939709                      11428.980066   \n",
       "min                            3.000000                          4.000000   \n",
       "25%                          962.000000                       1045.000000   \n",
       "50%                         1386.000000                       1578.000000   \n",
       "75%                         2055.000000                       2252.000000   \n",
       "max                        63920.000000                      74537.000000   \n",
       "\n",
       "       Number of Persons Killed (2018)  \n",
       "count                        41.000000  \n",
       "mean                        595.902439  \n",
       "std                        1874.486487  \n",
       "min                           0.000000  \n",
       "25%                         153.000000  \n",
       "50%                         244.000000  \n",
       "75%                         425.000000  \n",
       "max                       12216.000000  "
      ]
     },
     "execution_count": 22,
     "metadata": {},
     "output_type": "execute_result"
    }
   ],
   "source": [
    "df8.describe()"
   ]
  },
  {
   "cell_type": "code",
   "execution_count": 23,
   "metadata": {},
   "outputs": [
    {
     "name": "stdout",
     "output_type": "stream",
     "text": [
      "<class 'pandas.core.frame.DataFrame'>\n",
      "RangeIndex: 41 entries, 0 to 40\n",
      "Data columns (total 5 columns):\n",
      "S.No                                41 non-null object\n",
      "City/District                       41 non-null object\n",
      "Total Number of Accidents (2018)    41 non-null int64\n",
      "Number of Persons Injured (2018)    41 non-null int64\n",
      "Number of Persons Killed (2018)     41 non-null int64\n",
      "dtypes: int64(3), object(2)\n",
      "memory usage: 1.7+ KB\n"
     ]
    }
   ],
   "source": [
    "df8.info()"
   ]
  },
  {
   "cell_type": "code",
   "execution_count": 24,
   "metadata": {},
   "outputs": [
    {
     "data": {
      "text/html": [
       "<div>\n",
       "<style scoped>\n",
       "    .dataframe tbody tr th:only-of-type {\n",
       "        vertical-align: middle;\n",
       "    }\n",
       "\n",
       "    .dataframe tbody tr th {\n",
       "        vertical-align: top;\n",
       "    }\n",
       "\n",
       "    .dataframe thead th {\n",
       "        text-align: right;\n",
       "    }\n",
       "</style>\n",
       "<table border=\"1\" class=\"dataframe\">\n",
       "  <thead>\n",
       "    <tr style=\"text-align: right;\">\n",
       "      <th></th>\n",
       "      <th>S.No</th>\n",
       "      <th>City/District</th>\n",
       "      <th>Total Number of Accidents (2018)</th>\n",
       "      <th>Number of Persons Injured (2018)</th>\n",
       "      <th>Number of Persons Killed (2018)</th>\n",
       "    </tr>\n",
       "  </thead>\n",
       "  <tbody>\n",
       "    <tr>\n",
       "      <th>0</th>\n",
       "      <td>1</td>\n",
       "      <td>Chennai City</td>\n",
       "      <td>7580</td>\n",
       "      <td>7438</td>\n",
       "      <td>1260</td>\n",
       "    </tr>\n",
       "    <tr>\n",
       "      <th>1</th>\n",
       "      <td>2</td>\n",
       "      <td>Coimbatore City</td>\n",
       "      <td>1136</td>\n",
       "      <td>1140</td>\n",
       "      <td>162</td>\n",
       "    </tr>\n",
       "    <tr>\n",
       "      <th>2</th>\n",
       "      <td>3</td>\n",
       "      <td>Madurai City</td>\n",
       "      <td>962</td>\n",
       "      <td>945</td>\n",
       "      <td>153</td>\n",
       "    </tr>\n",
       "    <tr>\n",
       "      <th>3</th>\n",
       "      <td>4</td>\n",
       "      <td>Salem City</td>\n",
       "      <td>902</td>\n",
       "      <td>997</td>\n",
       "      <td>142</td>\n",
       "    </tr>\n",
       "    <tr>\n",
       "      <th>4</th>\n",
       "      <td>5</td>\n",
       "      <td>Tirunelveli City</td>\n",
       "      <td>367</td>\n",
       "      <td>370</td>\n",
       "      <td>60</td>\n",
       "    </tr>\n",
       "  </tbody>\n",
       "</table>\n",
       "</div>"
      ],
      "text/plain": [
       "  S.No     City/District  Total Number of Accidents (2018)  \\\n",
       "0    1      Chennai City                              7580   \n",
       "1    2   Coimbatore City                              1136   \n",
       "2    3      Madurai City                               962   \n",
       "3    4        Salem City                               902   \n",
       "4    5  Tirunelveli City                               367   \n",
       "\n",
       "   Number of Persons Injured (2018)  Number of Persons Killed (2018)  \n",
       "0                              7438                             1260  \n",
       "1                              1140                              162  \n",
       "2                               945                              153  \n",
       "3                               997                              142  \n",
       "4                               370                               60  "
      ]
     },
     "execution_count": 24,
     "metadata": {},
     "output_type": "execute_result"
    }
   ],
   "source": [
    "df8.head()"
   ]
  },
  {
   "cell_type": "code",
   "execution_count": 25,
   "metadata": {},
   "outputs": [
    {
     "data": {
      "text/html": [
       "<div>\n",
       "<style scoped>\n",
       "    .dataframe tbody tr th:only-of-type {\n",
       "        vertical-align: middle;\n",
       "    }\n",
       "\n",
       "    .dataframe tbody tr th {\n",
       "        vertical-align: top;\n",
       "    }\n",
       "\n",
       "    .dataframe thead th {\n",
       "        text-align: right;\n",
       "    }\n",
       "</style>\n",
       "<table border=\"1\" class=\"dataframe\">\n",
       "  <thead>\n",
       "    <tr style=\"text-align: right;\">\n",
       "      <th></th>\n",
       "      <th>S.No</th>\n",
       "      <th>City/District</th>\n",
       "      <th>Total Number of Accidents (2018)</th>\n",
       "      <th>Number of Persons Injured (2018)</th>\n",
       "      <th>Number of Persons Killed (2018)</th>\n",
       "    </tr>\n",
       "  </thead>\n",
       "  <tbody>\n",
       "    <tr>\n",
       "      <th>36</th>\n",
       "      <td>37</td>\n",
       "      <td>Villupuram</td>\n",
       "      <td>3262</td>\n",
       "      <td>4405</td>\n",
       "      <td>538</td>\n",
       "    </tr>\n",
       "    <tr>\n",
       "      <th>37</th>\n",
       "      <td>38</td>\n",
       "      <td>Virudhunagar</td>\n",
       "      <td>1054</td>\n",
       "      <td>1321</td>\n",
       "      <td>238</td>\n",
       "    </tr>\n",
       "    <tr>\n",
       "      <th>38</th>\n",
       "      <td>39</td>\n",
       "      <td>Railway Police, Chennai</td>\n",
       "      <td>6</td>\n",
       "      <td>7</td>\n",
       "      <td>3</td>\n",
       "    </tr>\n",
       "    <tr>\n",
       "      <th>39</th>\n",
       "      <td>40</td>\n",
       "      <td>Railway Police, Tiruchirappalli</td>\n",
       "      <td>3</td>\n",
       "      <td>4</td>\n",
       "      <td>0</td>\n",
       "    </tr>\n",
       "    <tr>\n",
       "      <th>40</th>\n",
       "      <td>Total</td>\n",
       "      <td>Total</td>\n",
       "      <td>63920</td>\n",
       "      <td>74537</td>\n",
       "      <td>12216</td>\n",
       "    </tr>\n",
       "  </tbody>\n",
       "</table>\n",
       "</div>"
      ],
      "text/plain": [
       "     S.No                    City/District  Total Number of Accidents (2018)  \\\n",
       "36     37                       Villupuram                              3262   \n",
       "37     38                     Virudhunagar                              1054   \n",
       "38     39          Railway Police, Chennai                                 6   \n",
       "39     40  Railway Police, Tiruchirappalli                                 3   \n",
       "40  Total                            Total                             63920   \n",
       "\n",
       "    Number of Persons Injured (2018)  Number of Persons Killed (2018)  \n",
       "36                              4405                              538  \n",
       "37                              1321                              238  \n",
       "38                                 7                                3  \n",
       "39                                 4                                0  \n",
       "40                             74537                            12216  "
      ]
     },
     "execution_count": 25,
     "metadata": {},
     "output_type": "execute_result"
    }
   ],
   "source": [
    "df8.tail()"
   ]
  },
  {
   "cell_type": "code",
   "execution_count": 40,
   "metadata": {},
   "outputs": [],
   "source": [
    "df8.drop([40], inplace = True)"
   ]
  },
  {
   "cell_type": "code",
   "execution_count": 41,
   "metadata": {},
   "outputs": [
    {
     "data": {
      "text/html": [
       "<div>\n",
       "<style scoped>\n",
       "    .dataframe tbody tr th:only-of-type {\n",
       "        vertical-align: middle;\n",
       "    }\n",
       "\n",
       "    .dataframe tbody tr th {\n",
       "        vertical-align: top;\n",
       "    }\n",
       "\n",
       "    .dataframe thead th {\n",
       "        text-align: right;\n",
       "    }\n",
       "</style>\n",
       "<table border=\"1\" class=\"dataframe\">\n",
       "  <thead>\n",
       "    <tr style=\"text-align: right;\">\n",
       "      <th></th>\n",
       "      <th>S.No</th>\n",
       "      <th>City/District</th>\n",
       "      <th>Total Number of Accidents (2018)</th>\n",
       "      <th>Number of Persons Injured (2018)</th>\n",
       "      <th>Number of Persons Killed (2018)</th>\n",
       "    </tr>\n",
       "  </thead>\n",
       "  <tbody>\n",
       "    <tr>\n",
       "      <th>35</th>\n",
       "      <td>36</td>\n",
       "      <td>Vellore</td>\n",
       "      <td>2604</td>\n",
       "      <td>2963</td>\n",
       "      <td>503</td>\n",
       "    </tr>\n",
       "    <tr>\n",
       "      <th>36</th>\n",
       "      <td>37</td>\n",
       "      <td>Villupuram</td>\n",
       "      <td>3262</td>\n",
       "      <td>4405</td>\n",
       "      <td>538</td>\n",
       "    </tr>\n",
       "    <tr>\n",
       "      <th>37</th>\n",
       "      <td>38</td>\n",
       "      <td>Virudhunagar</td>\n",
       "      <td>1054</td>\n",
       "      <td>1321</td>\n",
       "      <td>238</td>\n",
       "    </tr>\n",
       "    <tr>\n",
       "      <th>38</th>\n",
       "      <td>39</td>\n",
       "      <td>Railway Police, Chennai</td>\n",
       "      <td>6</td>\n",
       "      <td>7</td>\n",
       "      <td>3</td>\n",
       "    </tr>\n",
       "    <tr>\n",
       "      <th>39</th>\n",
       "      <td>40</td>\n",
       "      <td>Railway Police, Tiruchirappalli</td>\n",
       "      <td>3</td>\n",
       "      <td>4</td>\n",
       "      <td>0</td>\n",
       "    </tr>\n",
       "  </tbody>\n",
       "</table>\n",
       "</div>"
      ],
      "text/plain": [
       "   S.No                    City/District  Total Number of Accidents (2018)  \\\n",
       "35   36                          Vellore                              2604   \n",
       "36   37                       Villupuram                              3262   \n",
       "37   38                     Virudhunagar                              1054   \n",
       "38   39          Railway Police, Chennai                                 6   \n",
       "39   40  Railway Police, Tiruchirappalli                                 3   \n",
       "\n",
       "    Number of Persons Injured (2018)  Number of Persons Killed (2018)  \n",
       "35                              2963                              503  \n",
       "36                              4405                              538  \n",
       "37                              1321                              238  \n",
       "38                                 7                                3  \n",
       "39                                 4                                0  "
      ]
     },
     "execution_count": 41,
     "metadata": {},
     "output_type": "execute_result"
    }
   ],
   "source": [
    "df8.tail()"
   ]
  },
  {
   "cell_type": "code",
   "execution_count": 42,
   "metadata": {},
   "outputs": [
    {
     "data": {
      "text/plain": [
       "S.No                                  20.5\n",
       "Total Number of Accidents (2018)    1363.0\n",
       "Number of Persons Injured (2018)    1569.5\n",
       "Number of Persons Killed (2018)      244.0\n",
       "dtype: float64"
      ]
     },
     "execution_count": 42,
     "metadata": {},
     "output_type": "execute_result"
    }
   ],
   "source": [
    "df8.median()"
   ]
  },
  {
   "cell_type": "code",
   "execution_count": 43,
   "metadata": {},
   "outputs": [
    {
     "data": {
      "image/png": "[encoded data removed]",
      "text/plain": [
       "<Figure size 432x288 with 3 Axes>"
      ]
     },
     "metadata": {
      "needs_background": "light"
     },
     "output_type": "display_data"
    }
   ],
   "source": [
    "plt.subplot(3,2,1)\n",
    "plt.hist('Total Number of Accidents (2018)', data = df8)\n",
    "plt.title(\"Accidents in 2018\")\n",
    "\n",
    "plt.subplot(3,2,3)\n",
    "plt.hist('Number of Persons Injured (2018)', data = df8)\n",
    "plt.title(\"Persons Injured in 2018\")\n",
    "\n",
    "plt.subplot(3,2,4)\n",
    "plt.hist('Number of Persons Killed (2018)', data = df8)\n",
    "plt.title(\"Persons Killed in 2018\")\n",
    "\n",
    "\n",
    "plt.subplots_adjust(top = 0.99, bottom=0.01, hspace=1.5, wspace=0.4)\n",
    "plt.subplots_adjust(wspace = 1)\n",
    "\n",
    "plt.show()"
   ]
  },
  {
   "cell_type": "markdown",
   "metadata": {},
   "source": [
    "# ***9) Road-Accidents on national highway 2015 to 2018***"
   ]
  },
  {
   "cell_type": "code",
   "execution_count": 44,
   "metadata": {},
   "outputs": [
    {
     "data": {
      "text/plain": [
       "(37, 7)"
      ]
     },
     "execution_count": 44,
     "metadata": {},
     "output_type": "execute_result"
    }
   ],
   "source": [
    "df9.shape"
   ]
  },
  {
   "cell_type": "code",
   "execution_count": 45,
   "metadata": {},
   "outputs": [],
   "source": [
    "df9.index = df9.index + 1"
   ]
  },
  {
   "cell_type": "code",
   "execution_count": 46,
   "metadata": {},
   "outputs": [
    {
     "data": {
      "text/html": [
       "<div>\n",
       "<style scoped>\n",
       "    .dataframe tbody tr th:only-of-type {\n",
       "        vertical-align: middle;\n",
       "    }\n",
       "\n",
       "    .dataframe tbody tr th {\n",
       "        vertical-align: top;\n",
       "    }\n",
       "\n",
       "    .dataframe thead th {\n",
       "        text-align: right;\n",
       "    }\n",
       "</style>\n",
       "<table border=\"1\" class=\"dataframe\">\n",
       "  <thead>\n",
       "    <tr style=\"text-align: right;\">\n",
       "      <th></th>\n",
       "      <th>2015</th>\n",
       "      <th>2016</th>\n",
       "      <th>2017</th>\n",
       "      <th>2018 - Number</th>\n",
       "      <th>2018 - Rank</th>\n",
       "    </tr>\n",
       "  </thead>\n",
       "  <tbody>\n",
       "    <tr>\n",
       "      <th>count</th>\n",
       "      <td>37.000000</td>\n",
       "      <td>37.000000</td>\n",
       "      <td>37.000000</td>\n",
       "      <td>37.000000</td>\n",
       "      <td>36.000000</td>\n",
       "    </tr>\n",
       "    <tr>\n",
       "      <th>mean</th>\n",
       "      <td>7690.162162</td>\n",
       "      <td>7695.081081</td>\n",
       "      <td>7646.810811</td>\n",
       "      <td>7613.135135</td>\n",
       "      <td>18.416667</td>\n",
       "    </tr>\n",
       "    <tr>\n",
       "      <th>std</th>\n",
       "      <td>23283.475665</td>\n",
       "      <td>23312.301102</td>\n",
       "      <td>23133.290953</td>\n",
       "      <td>23025.661947</td>\n",
       "      <td>10.401580</td>\n",
       "    </tr>\n",
       "    <tr>\n",
       "      <th>min</th>\n",
       "      <td>0.000000</td>\n",
       "      <td>0.000000</td>\n",
       "      <td>0.000000</td>\n",
       "      <td>0.000000</td>\n",
       "      <td>1.000000</td>\n",
       "    </tr>\n",
       "    <tr>\n",
       "      <th>25%</th>\n",
       "      <td>230.000000</td>\n",
       "      <td>203.000000</td>\n",
       "      <td>338.000000</td>\n",
       "      <td>188.000000</td>\n",
       "      <td>9.750000</td>\n",
       "    </tr>\n",
       "    <tr>\n",
       "      <th>50%</th>\n",
       "      <td>2007.000000</td>\n",
       "      <td>2114.000000</td>\n",
       "      <td>2139.000000</td>\n",
       "      <td>2118.000000</td>\n",
       "      <td>18.500000</td>\n",
       "    </tr>\n",
       "    <tr>\n",
       "      <th>75%</th>\n",
       "      <td>5649.000000</td>\n",
       "      <td>6166.000000</td>\n",
       "      <td>6211.000000</td>\n",
       "      <td>6487.000000</td>\n",
       "      <td>27.250000</td>\n",
       "    </tr>\n",
       "    <tr>\n",
       "      <th>max</th>\n",
       "      <td>142268.000000</td>\n",
       "      <td>142359.000000</td>\n",
       "      <td>141466.000000</td>\n",
       "      <td>140843.000000</td>\n",
       "      <td>34.000000</td>\n",
       "    </tr>\n",
       "  </tbody>\n",
       "</table>\n",
       "</div>"
      ],
      "text/plain": [
       "                2015           2016           2017  2018 - Number  2018 - Rank\n",
       "count      37.000000      37.000000      37.000000      37.000000    36.000000\n",
       "mean     7690.162162    7695.081081    7646.810811    7613.135135    18.416667\n",
       "std     23283.475665   23312.301102   23133.290953   23025.661947    10.401580\n",
       "min         0.000000       0.000000       0.000000       0.000000     1.000000\n",
       "25%       230.000000     203.000000     338.000000     188.000000     9.750000\n",
       "50%      2007.000000    2114.000000    2139.000000    2118.000000    18.500000\n",
       "75%      5649.000000    6166.000000    6211.000000    6487.000000    27.250000\n",
       "max    142268.000000  142359.000000  141466.000000  140843.000000    34.000000"
      ]
     },
     "execution_count": 46,
     "metadata": {},
     "output_type": "execute_result"
    }
   ],
   "source": [
    "df9.describe()"
   ]
  },
  {
   "cell_type": "code",
   "execution_count": 47,
   "metadata": {},
   "outputs": [
    {
     "name": "stdout",
     "output_type": "stream",
     "text": [
      "<class 'pandas.core.frame.DataFrame'>\n",
      "RangeIndex: 37 entries, 1 to 37\n",
      "Data columns (total 7 columns):\n",
      "Sl. No.          37 non-null object\n",
      "States/UTs       37 non-null object\n",
      "2015             37 non-null int64\n",
      "2016             37 non-null int64\n",
      "2017             37 non-null int64\n",
      "2018 - Number    37 non-null int64\n",
      "2018 - Rank      36 non-null float64\n",
      "dtypes: float64(1), int64(4), object(2)\n",
      "memory usage: 2.1+ KB\n"
     ]
    }
   ],
   "source": [
    "df9.info()"
   ]
  },
  {
   "cell_type": "code",
   "execution_count": 48,
   "metadata": {},
   "outputs": [
    {
     "data": {
      "text/html": [
       "<div>\n",
       "<style scoped>\n",
       "    .dataframe tbody tr th:only-of-type {\n",
       "        vertical-align: middle;\n",
       "    }\n",
       "\n",
       "    .dataframe tbody tr th {\n",
       "        vertical-align: top;\n",
       "    }\n",
       "\n",
       "    .dataframe thead th {\n",
       "        text-align: right;\n",
       "    }\n",
       "</style>\n",
       "<table border=\"1\" class=\"dataframe\">\n",
       "  <thead>\n",
       "    <tr style=\"text-align: right;\">\n",
       "      <th></th>\n",
       "      <th>Sl. No.</th>\n",
       "      <th>States/UTs</th>\n",
       "      <th>2015</th>\n",
       "      <th>2016</th>\n",
       "      <th>2017</th>\n",
       "      <th>2018 - Number</th>\n",
       "      <th>2018 - Rank</th>\n",
       "    </tr>\n",
       "  </thead>\n",
       "  <tbody>\n",
       "    <tr>\n",
       "      <th>1</th>\n",
       "      <td>1</td>\n",
       "      <td>Andhra Pradesh</td>\n",
       "      <td>8477</td>\n",
       "      <td>8171</td>\n",
       "      <td>8544</td>\n",
       "      <td>8122</td>\n",
       "      <td>7.0</td>\n",
       "    </tr>\n",
       "    <tr>\n",
       "      <th>2</th>\n",
       "      <td>2</td>\n",
       "      <td>Arunachal Pradesh</td>\n",
       "      <td>113</td>\n",
       "      <td>95</td>\n",
       "      <td>88</td>\n",
       "      <td>89</td>\n",
       "      <td>30.0</td>\n",
       "    </tr>\n",
       "    <tr>\n",
       "      <th>3</th>\n",
       "      <td>3</td>\n",
       "      <td>Assam</td>\n",
       "      <td>3353</td>\n",
       "      <td>3478</td>\n",
       "      <td>3274</td>\n",
       "      <td>3963</td>\n",
       "      <td>16.0</td>\n",
       "    </tr>\n",
       "    <tr>\n",
       "      <th>4</th>\n",
       "      <td>4</td>\n",
       "      <td>Bihar</td>\n",
       "      <td>3227</td>\n",
       "      <td>3138</td>\n",
       "      <td>3883</td>\n",
       "      <td>4016</td>\n",
       "      <td>13.0</td>\n",
       "    </tr>\n",
       "    <tr>\n",
       "      <th>5</th>\n",
       "      <td>5</td>\n",
       "      <td>Chhattisgarh</td>\n",
       "      <td>4058</td>\n",
       "      <td>4042</td>\n",
       "      <td>3701</td>\n",
       "      <td>3995</td>\n",
       "      <td>15.0</td>\n",
       "    </tr>\n",
       "  </tbody>\n",
       "</table>\n",
       "</div>"
      ],
      "text/plain": [
       "  Sl. No.         States/UTs  2015  2016  2017  2018 - Number  2018 - Rank\n",
       "1       1     Andhra Pradesh  8477  8171  8544           8122          7.0\n",
       "2       2  Arunachal Pradesh   113    95    88             89         30.0\n",
       "3       3              Assam  3353  3478  3274           3963         16.0\n",
       "4       4              Bihar  3227  3138  3883           4016         13.0\n",
       "5       5       Chhattisgarh  4058  4042  3701           3995         15.0"
      ]
     },
     "execution_count": 48,
     "metadata": {},
     "output_type": "execute_result"
    }
   ],
   "source": [
    "df9.head()"
   ]
  },
  {
   "cell_type": "code",
   "execution_count": 49,
   "metadata": {},
   "outputs": [],
   "source": [
    "df9 = df9.rename(columns = {'States/UTs': 'Region','2015':'Road_accidents_NH_2015','2016':'Road_accidents_NH_2016','2017':'Road_accidents_NH_2017','2018 - Number':'Road_accidents_NH_2018','2018 - Rank':'Rank_in_2018'})"
   ]
  },
  {
   "cell_type": "code",
   "execution_count": 55,
   "metadata": {},
   "outputs": [
    {
     "data": {
      "text/html": [
       "<div>\n",
       "<style scoped>\n",
       "    .dataframe tbody tr th:only-of-type {\n",
       "        vertical-align: middle;\n",
       "    }\n",
       "\n",
       "    .dataframe tbody tr th {\n",
       "        vertical-align: top;\n",
       "    }\n",
       "\n",
       "    .dataframe thead th {\n",
       "        text-align: right;\n",
       "    }\n",
       "</style>\n",
       "<table border=\"1\" class=\"dataframe\">\n",
       "  <thead>\n",
       "    <tr style=\"text-align: right;\">\n",
       "      <th></th>\n",
       "      <th>Sl. No.</th>\n",
       "      <th>Region</th>\n",
       "      <th>Road_accidents_NH_2015</th>\n",
       "      <th>Road_accidents_NH_2016</th>\n",
       "      <th>Road_accidents_NH_2017</th>\n",
       "      <th>Road_accidents_NH_2018</th>\n",
       "      <th>Rank_in_2018</th>\n",
       "    </tr>\n",
       "  </thead>\n",
       "  <tbody>\n",
       "    <tr>\n",
       "      <th>31</th>\n",
       "      <td>31</td>\n",
       "      <td>Chandigarh</td>\n",
       "      <td>45</td>\n",
       "      <td>47</td>\n",
       "      <td>33</td>\n",
       "      <td>46</td>\n",
       "      <td>32.0</td>\n",
       "    </tr>\n",
       "    <tr>\n",
       "      <th>32</th>\n",
       "      <td>32</td>\n",
       "      <td>Dadra &amp; Nagar Haveli</td>\n",
       "      <td>0</td>\n",
       "      <td>0</td>\n",
       "      <td>0</td>\n",
       "      <td>0</td>\n",
       "      <td>34.0</td>\n",
       "    </tr>\n",
       "    <tr>\n",
       "      <th>33</th>\n",
       "      <td>33</td>\n",
       "      <td>Daman &amp; Diu</td>\n",
       "      <td>6</td>\n",
       "      <td>0</td>\n",
       "      <td>9</td>\n",
       "      <td>0</td>\n",
       "      <td>34.0</td>\n",
       "    </tr>\n",
       "    <tr>\n",
       "      <th>34</th>\n",
       "      <td>34</td>\n",
       "      <td>Delhi</td>\n",
       "      <td>897</td>\n",
       "      <td>723</td>\n",
       "      <td>755</td>\n",
       "      <td>783</td>\n",
       "      <td>23.0</td>\n",
       "    </tr>\n",
       "    <tr>\n",
       "      <th>35</th>\n",
       "      <td>35</td>\n",
       "      <td>Lakshadweep</td>\n",
       "      <td>0</td>\n",
       "      <td>0</td>\n",
       "      <td>0</td>\n",
       "      <td>0</td>\n",
       "      <td>34.0</td>\n",
       "    </tr>\n",
       "  </tbody>\n",
       "</table>\n",
       "</div>"
      ],
      "text/plain": [
       "   Sl. No.                Region  Road_accidents_NH_2015  \\\n",
       "31      31            Chandigarh                      45   \n",
       "32      32  Dadra & Nagar Haveli                       0   \n",
       "33      33           Daman & Diu                       6   \n",
       "34      34                 Delhi                     897   \n",
       "35      35           Lakshadweep                       0   \n",
       "\n",
       "    Road_accidents_NH_2016  Road_accidents_NH_2017  Road_accidents_NH_2018  \\\n",
       "31                      47                      33                      46   \n",
       "32                       0                       0                       0   \n",
       "33                       0                       9                       0   \n",
       "34                     723                     755                     783   \n",
       "35                       0                       0                       0   \n",
       "\n",
       "    Rank_in_2018  \n",
       "31          32.0  \n",
       "32          34.0  \n",
       "33          34.0  \n",
       "34          23.0  \n",
       "35          34.0  "
      ]
     },
     "execution_count": 55,
     "metadata": {},
     "output_type": "execute_result"
    }
   ],
   "source": [
    "df9.tail()"
   ]
  },
  {
   "cell_type": "code",
   "execution_count": 53,
   "metadata": {},
   "outputs": [],
   "source": [
    "df9.drop([37], inplace = True)"
   ]
  },
  {
   "cell_type": "code",
   "execution_count": 56,
   "metadata": {},
   "outputs": [
    {
     "data": {
      "text/html": [
       "<div>\n",
       "<style scoped>\n",
       "    .dataframe tbody tr th:only-of-type {\n",
       "        vertical-align: middle;\n",
       "    }\n",
       "\n",
       "    .dataframe tbody tr th {\n",
       "        vertical-align: top;\n",
       "    }\n",
       "\n",
       "    .dataframe thead th {\n",
       "        text-align: right;\n",
       "    }\n",
       "</style>\n",
       "<table border=\"1\" class=\"dataframe\">\n",
       "  <thead>\n",
       "    <tr style=\"text-align: right;\">\n",
       "      <th></th>\n",
       "      <th>Sl. No.</th>\n",
       "      <th>Region</th>\n",
       "      <th>Road_accidents_NH_2015</th>\n",
       "      <th>Road_accidents_NH_2016</th>\n",
       "      <th>Road_accidents_NH_2017</th>\n",
       "      <th>Road_accidents_NH_2018</th>\n",
       "      <th>Rank_in_2018</th>\n",
       "    </tr>\n",
       "  </thead>\n",
       "  <tbody>\n",
       "    <tr>\n",
       "      <th>31</th>\n",
       "      <td>31</td>\n",
       "      <td>Chandigarh</td>\n",
       "      <td>45</td>\n",
       "      <td>47</td>\n",
       "      <td>33</td>\n",
       "      <td>46</td>\n",
       "      <td>32.0</td>\n",
       "    </tr>\n",
       "    <tr>\n",
       "      <th>32</th>\n",
       "      <td>32</td>\n",
       "      <td>Dadra &amp; Nagar Haveli</td>\n",
       "      <td>0</td>\n",
       "      <td>0</td>\n",
       "      <td>0</td>\n",
       "      <td>0</td>\n",
       "      <td>34.0</td>\n",
       "    </tr>\n",
       "    <tr>\n",
       "      <th>33</th>\n",
       "      <td>33</td>\n",
       "      <td>Daman &amp; Diu</td>\n",
       "      <td>6</td>\n",
       "      <td>0</td>\n",
       "      <td>9</td>\n",
       "      <td>0</td>\n",
       "      <td>34.0</td>\n",
       "    </tr>\n",
       "    <tr>\n",
       "      <th>34</th>\n",
       "      <td>34</td>\n",
       "      <td>Delhi</td>\n",
       "      <td>897</td>\n",
       "      <td>723</td>\n",
       "      <td>755</td>\n",
       "      <td>783</td>\n",
       "      <td>23.0</td>\n",
       "    </tr>\n",
       "    <tr>\n",
       "      <th>35</th>\n",
       "      <td>35</td>\n",
       "      <td>Lakshadweep</td>\n",
       "      <td>0</td>\n",
       "      <td>0</td>\n",
       "      <td>0</td>\n",
       "      <td>0</td>\n",
       "      <td>34.0</td>\n",
       "    </tr>\n",
       "  </tbody>\n",
       "</table>\n",
       "</div>"
      ],
      "text/plain": [
       "   Sl. No.                Region  Road_accidents_NH_2015  \\\n",
       "31      31            Chandigarh                      45   \n",
       "32      32  Dadra & Nagar Haveli                       0   \n",
       "33      33           Daman & Diu                       6   \n",
       "34      34                 Delhi                     897   \n",
       "35      35           Lakshadweep                       0   \n",
       "\n",
       "    Road_accidents_NH_2016  Road_accidents_NH_2017  Road_accidents_NH_2018  \\\n",
       "31                      47                      33                      46   \n",
       "32                       0                       0                       0   \n",
       "33                       0                       9                       0   \n",
       "34                     723                     755                     783   \n",
       "35                       0                       0                       0   \n",
       "\n",
       "    Rank_in_2018  \n",
       "31          32.0  \n",
       "32          34.0  \n",
       "33          34.0  \n",
       "34          23.0  \n",
       "35          34.0  "
      ]
     },
     "execution_count": 56,
     "metadata": {},
     "output_type": "execute_result"
    }
   ],
   "source": [
    "df9.tail()"
   ]
  },
  {
   "cell_type": "code",
   "execution_count": 57,
   "metadata": {},
   "outputs": [
    {
     "data": {
      "text/plain": [
       "Sl. No.                     18.0\n",
       "Road_accidents_NH_2015    2007.0\n",
       "Road_accidents_NH_2016    2114.0\n",
       "Road_accidents_NH_2017    2139.0\n",
       "Road_accidents_NH_2018    2118.0\n",
       "Rank_in_2018                18.0\n",
       "dtype: float64"
      ]
     },
     "execution_count": 57,
     "metadata": {},
     "output_type": "execute_result"
    }
   ],
   "source": [
    "df9.median()"
   ]
  },
  {
   "cell_type": "code",
   "execution_count": 58,
   "metadata": {},
   "outputs": [
    {
     "data": {
      "image/png": "[encoded data removed]",
      "text/plain": [
       "<Figure size 432x288 with 5 Axes>"
      ]
     },
     "metadata": {
      "needs_background": "light"
     },
     "output_type": "display_data"
    }
   ],
   "source": [
    "plt.subplot(3,3,1)\n",
    "plt.hist('Road_accidents_NH_2015', data=df9)\n",
    "plt.title(\"Year 2015\")\n",
    "\n",
    "plt.subplot(3,3,2)\n",
    "plt.hist('Road_accidents_NH_2016', data = df9)\n",
    "plt.title(\"Year 2016\")\n",
    "\n",
    "plt.subplot(3,3,3)\n",
    "plt.hist('Road_accidents_NH_2017', data = df9)\n",
    "plt.title(\"Year 2017\")\n",
    "\n",
    "plt.subplot(3,3,4)\n",
    "plt.hist('Road_accidents_NH_2018', data = df9)\n",
    "plt.title(\"Year 2018\")\n",
    "\n",
    "plt.subplot(3,3,5)\n",
    "plt.hist('Rank_in_2018', data = df9)\n",
    "plt.title(\"Ranking in 2018\")\n",
    "\n",
    "plt.subplots_adjust(top = 0.99, bottom=0.01, hspace=1.5, wspace=0.4)\n",
    "plt.subplots_adjust(wspace = 1)\n",
    "\n",
    "plt.show()"
   ]
  },
  {
   "cell_type": "markdown",
   "metadata": {},
   "source": [
    "# ***10) Road accidents from 2015 t0 2018***"
   ]
  },
  {
   "cell_type": "code",
   "execution_count": 59,
   "metadata": {},
   "outputs": [
    {
     "data": {
      "text/plain": [
       "(37, 6)"
      ]
     },
     "execution_count": 59,
     "metadata": {},
     "output_type": "execute_result"
    }
   ],
   "source": [
    "df10.shape"
   ]
  },
  {
   "cell_type": "code",
   "execution_count": 60,
   "metadata": {},
   "outputs": [
    {
     "data": {
      "text/plain": [
       "Index([u'States/UTs', u'2015', u'2016', u'2017', u'2018 - Number',\n",
       "       u'2018 - Rank'],\n",
       "      dtype='object')"
      ]
     },
     "execution_count": 60,
     "metadata": {},
     "output_type": "execute_result"
    }
   ],
   "source": [
    "df10.columns"
   ]
  },
  {
   "cell_type": "code",
   "execution_count": 61,
   "metadata": {},
   "outputs": [
    {
     "data": {
      "text/html": [
       "<div>\n",
       "<style scoped>\n",
       "    .dataframe tbody tr th:only-of-type {\n",
       "        vertical-align: middle;\n",
       "    }\n",
       "\n",
       "    .dataframe tbody tr th {\n",
       "        vertical-align: top;\n",
       "    }\n",
       "\n",
       "    .dataframe thead th {\n",
       "        text-align: right;\n",
       "    }\n",
       "</style>\n",
       "<table border=\"1\" class=\"dataframe\">\n",
       "  <thead>\n",
       "    <tr style=\"text-align: right;\">\n",
       "      <th></th>\n",
       "      <th>2015</th>\n",
       "      <th>2016</th>\n",
       "      <th>2017</th>\n",
       "      <th>2018 - Number</th>\n",
       "      <th>2018 - Rank</th>\n",
       "    </tr>\n",
       "  </thead>\n",
       "  <tbody>\n",
       "    <tr>\n",
       "      <th>count</th>\n",
       "      <td>37.000000</td>\n",
       "      <td>37.000000</td>\n",
       "      <td>37.000000</td>\n",
       "      <td>37.000000</td>\n",
       "      <td>36.000000</td>\n",
       "    </tr>\n",
       "    <tr>\n",
       "      <th>mean</th>\n",
       "      <td>2459.945946</td>\n",
       "      <td>2508.432432</td>\n",
       "      <td>2552.594595</td>\n",
       "      <td>2624.324324</td>\n",
       "      <td>18.416667</td>\n",
       "    </tr>\n",
       "    <tr>\n",
       "      <th>std</th>\n",
       "      <td>7440.215021</td>\n",
       "      <td>7586.809524</td>\n",
       "      <td>7714.862563</td>\n",
       "      <td>7930.529641</td>\n",
       "      <td>10.401580</td>\n",
       "    </tr>\n",
       "    <tr>\n",
       "      <th>min</th>\n",
       "      <td>0.000000</td>\n",
       "      <td>0.000000</td>\n",
       "      <td>0.000000</td>\n",
       "      <td>0.000000</td>\n",
       "      <td>1.000000</td>\n",
       "    </tr>\n",
       "    <tr>\n",
       "      <th>25%</th>\n",
       "      <td>50.000000</td>\n",
       "      <td>45.000000</td>\n",
       "      <td>67.000000</td>\n",
       "      <td>69.000000</td>\n",
       "      <td>9.750000</td>\n",
       "    </tr>\n",
       "    <tr>\n",
       "      <th>50%</th>\n",
       "      <td>1063.000000</td>\n",
       "      <td>1048.000000</td>\n",
       "      <td>1120.000000</td>\n",
       "      <td>1027.000000</td>\n",
       "      <td>18.500000</td>\n",
       "    </tr>\n",
       "    <tr>\n",
       "      <th>75%</th>\n",
       "      <td>1913.000000</td>\n",
       "      <td>1965.000000</td>\n",
       "      <td>1885.000000</td>\n",
       "      <td>1969.000000</td>\n",
       "      <td>27.250000</td>\n",
       "    </tr>\n",
       "    <tr>\n",
       "      <th>max</th>\n",
       "      <td>45509.000000</td>\n",
       "      <td>46406.000000</td>\n",
       "      <td>47223.000000</td>\n",
       "      <td>48550.000000</td>\n",
       "      <td>34.000000</td>\n",
       "    </tr>\n",
       "  </tbody>\n",
       "</table>\n",
       "</div>"
      ],
      "text/plain": [
       "               2015          2016          2017  2018 - Number  2018 - Rank\n",
       "count     37.000000     37.000000     37.000000      37.000000    36.000000\n",
       "mean    2459.945946   2508.432432   2552.594595    2624.324324    18.416667\n",
       "std     7440.215021   7586.809524   7714.862563    7930.529641    10.401580\n",
       "min        0.000000      0.000000      0.000000       0.000000     1.000000\n",
       "25%       50.000000     45.000000     67.000000      69.000000     9.750000\n",
       "50%     1063.000000   1048.000000   1120.000000    1027.000000    18.500000\n",
       "75%     1913.000000   1965.000000   1885.000000    1969.000000    27.250000\n",
       "max    45509.000000  46406.000000  47223.000000   48550.000000    34.000000"
      ]
     },
     "execution_count": 61,
     "metadata": {},
     "output_type": "execute_result"
    }
   ],
   "source": [
    "df10.describe()"
   ]
  },
  {
   "cell_type": "code",
   "execution_count": 62,
   "metadata": {},
   "outputs": [
    {
     "name": "stdout",
     "output_type": "stream",
     "text": [
      "<class 'pandas.core.frame.DataFrame'>\n",
      "Index: 37 entries, 1 to Total\n",
      "Data columns (total 6 columns):\n",
      "States/UTs       37 non-null object\n",
      "2015             37 non-null int64\n",
      "2016             37 non-null int64\n",
      "2017             37 non-null int64\n",
      "2018 - Number    37 non-null int64\n",
      "2018 - Rank      36 non-null float64\n",
      "dtypes: float64(1), int64(4), object(1)\n",
      "memory usage: 2.0+ KB\n"
     ]
    }
   ],
   "source": [
    "df10.info()"
   ]
  },
  {
   "cell_type": "code",
   "execution_count": 63,
   "metadata": {},
   "outputs": [],
   "source": [
    "df10 = df10.rename(columns = {'States/UTs':'Region', '2015':'accidents_in_2015', '2016':'accidents_in_2016', '2017':'accidents_in_2017','2018 - Number':'accidents_in_2018','2018 - Rank':'Rankin2018'})"
   ]
  },
  {
   "cell_type": "code",
   "execution_count": 64,
   "metadata": {},
   "outputs": [
    {
     "data": {
      "text/html": [
       "<div>\n",
       "<style scoped>\n",
       "    .dataframe tbody tr th:only-of-type {\n",
       "        vertical-align: middle;\n",
       "    }\n",
       "\n",
       "    .dataframe tbody tr th {\n",
       "        vertical-align: top;\n",
       "    }\n",
       "\n",
       "    .dataframe thead th {\n",
       "        text-align: right;\n",
       "    }\n",
       "</style>\n",
       "<table border=\"1\" class=\"dataframe\">\n",
       "  <thead>\n",
       "    <tr style=\"text-align: right;\">\n",
       "      <th></th>\n",
       "      <th>Region</th>\n",
       "      <th>accidents_in_2015</th>\n",
       "      <th>accidents_in_2016</th>\n",
       "      <th>accidents_in_2017</th>\n",
       "      <th>accidents_in_2018</th>\n",
       "      <th>Rankin2018</th>\n",
       "    </tr>\n",
       "    <tr>\n",
       "      <th>Sl. No.</th>\n",
       "      <th></th>\n",
       "      <th></th>\n",
       "      <th></th>\n",
       "      <th></th>\n",
       "      <th></th>\n",
       "      <th></th>\n",
       "    </tr>\n",
       "  </thead>\n",
       "  <tbody>\n",
       "    <tr>\n",
       "      <th>33</th>\n",
       "      <td>Daman &amp; Diu</td>\n",
       "      <td>5</td>\n",
       "      <td>0</td>\n",
       "      <td>5</td>\n",
       "      <td>0</td>\n",
       "      <td>34.0</td>\n",
       "    </tr>\n",
       "    <tr>\n",
       "      <th>34</th>\n",
       "      <td>Delhi</td>\n",
       "      <td>248</td>\n",
       "      <td>221</td>\n",
       "      <td>265</td>\n",
       "      <td>258</td>\n",
       "      <td>22.0</td>\n",
       "    </tr>\n",
       "    <tr>\n",
       "      <th>35</th>\n",
       "      <td>Lakshadweep</td>\n",
       "      <td>0</td>\n",
       "      <td>0</td>\n",
       "      <td>0</td>\n",
       "      <td>0</td>\n",
       "      <td>34.0</td>\n",
       "    </tr>\n",
       "    <tr>\n",
       "      <th>36</th>\n",
       "      <td>Puducherry</td>\n",
       "      <td>142</td>\n",
       "      <td>124</td>\n",
       "      <td>133</td>\n",
       "      <td>110</td>\n",
       "      <td>23.0</td>\n",
       "    </tr>\n",
       "    <tr>\n",
       "      <th>Total</th>\n",
       "      <td>Total</td>\n",
       "      <td>45509</td>\n",
       "      <td>46406</td>\n",
       "      <td>47223</td>\n",
       "      <td>48550</td>\n",
       "      <td>NaN</td>\n",
       "    </tr>\n",
       "  </tbody>\n",
       "</table>\n",
       "</div>"
      ],
      "text/plain": [
       "              Region  accidents_in_2015  accidents_in_2016  accidents_in_2017  \\\n",
       "Sl. No.                                                                         \n",
       "33       Daman & Diu                  5                  0                  5   \n",
       "34             Delhi                248                221                265   \n",
       "35       Lakshadweep                  0                  0                  0   \n",
       "36        Puducherry                142                124                133   \n",
       "Total          Total              45509              46406              47223   \n",
       "\n",
       "         accidents_in_2018  Rankin2018  \n",
       "Sl. No.                                 \n",
       "33                       0        34.0  \n",
       "34                     258        22.0  \n",
       "35                       0        34.0  \n",
       "36                     110        23.0  \n",
       "Total                48550         NaN  "
      ]
     },
     "execution_count": 64,
     "metadata": {},
     "output_type": "execute_result"
    }
   ],
   "source": [
    "df10.tail()"
   ]
  },
  {
   "cell_type": "code",
   "execution_count": 65,
   "metadata": {},
   "outputs": [],
   "source": [
    "df10.drop(['Total'], inplace = True)"
   ]
  },
  {
   "cell_type": "code",
   "execution_count": 66,
   "metadata": {},
   "outputs": [
    {
     "data": {
      "text/html": [
       "<div>\n",
       "<style scoped>\n",
       "    .dataframe tbody tr th:only-of-type {\n",
       "        vertical-align: middle;\n",
       "    }\n",
       "\n",
       "    .dataframe tbody tr th {\n",
       "        vertical-align: top;\n",
       "    }\n",
       "\n",
       "    .dataframe thead th {\n",
       "        text-align: right;\n",
       "    }\n",
       "</style>\n",
       "<table border=\"1\" class=\"dataframe\">\n",
       "  <thead>\n",
       "    <tr style=\"text-align: right;\">\n",
       "      <th></th>\n",
       "      <th>Region</th>\n",
       "      <th>accidents_in_2015</th>\n",
       "      <th>accidents_in_2016</th>\n",
       "      <th>accidents_in_2017</th>\n",
       "      <th>accidents_in_2018</th>\n",
       "      <th>Rankin2018</th>\n",
       "    </tr>\n",
       "    <tr>\n",
       "      <th>Sl. No.</th>\n",
       "      <th></th>\n",
       "      <th></th>\n",
       "      <th></th>\n",
       "      <th></th>\n",
       "      <th></th>\n",
       "      <th></th>\n",
       "    </tr>\n",
       "  </thead>\n",
       "  <tbody>\n",
       "    <tr>\n",
       "      <th>32</th>\n",
       "      <td>Dadra &amp; Nagar Haveli</td>\n",
       "      <td>0</td>\n",
       "      <td>0</td>\n",
       "      <td>0</td>\n",
       "      <td>0</td>\n",
       "      <td>34.0</td>\n",
       "    </tr>\n",
       "    <tr>\n",
       "      <th>33</th>\n",
       "      <td>Daman &amp; Diu</td>\n",
       "      <td>5</td>\n",
       "      <td>0</td>\n",
       "      <td>5</td>\n",
       "      <td>0</td>\n",
       "      <td>34.0</td>\n",
       "    </tr>\n",
       "    <tr>\n",
       "      <th>34</th>\n",
       "      <td>Delhi</td>\n",
       "      <td>248</td>\n",
       "      <td>221</td>\n",
       "      <td>265</td>\n",
       "      <td>258</td>\n",
       "      <td>22.0</td>\n",
       "    </tr>\n",
       "    <tr>\n",
       "      <th>35</th>\n",
       "      <td>Lakshadweep</td>\n",
       "      <td>0</td>\n",
       "      <td>0</td>\n",
       "      <td>0</td>\n",
       "      <td>0</td>\n",
       "      <td>34.0</td>\n",
       "    </tr>\n",
       "    <tr>\n",
       "      <th>36</th>\n",
       "      <td>Puducherry</td>\n",
       "      <td>142</td>\n",
       "      <td>124</td>\n",
       "      <td>133</td>\n",
       "      <td>110</td>\n",
       "      <td>23.0</td>\n",
       "    </tr>\n",
       "  </tbody>\n",
       "</table>\n",
       "</div>"
      ],
      "text/plain": [
       "                       Region  accidents_in_2015  accidents_in_2016  \\\n",
       "Sl. No.                                                               \n",
       "32       Dadra & Nagar Haveli                  0                  0   \n",
       "33                Daman & Diu                  5                  0   \n",
       "34                      Delhi                248                221   \n",
       "35                Lakshadweep                  0                  0   \n",
       "36                 Puducherry                142                124   \n",
       "\n",
       "         accidents_in_2017  accidents_in_2018  Rankin2018  \n",
       "Sl. No.                                                    \n",
       "32                       0                  0        34.0  \n",
       "33                       5                  0        34.0  \n",
       "34                     265                258        22.0  \n",
       "35                       0                  0        34.0  \n",
       "36                     133                110        23.0  "
      ]
     },
     "execution_count": 66,
     "metadata": {},
     "output_type": "execute_result"
    }
   ],
   "source": [
    "df10.tail()"
   ]
  },
  {
   "cell_type": "code",
   "execution_count": 67,
   "metadata": {},
   "outputs": [
    {
     "data": {
      "text/plain": [
       "accidents_in_2015    717.5\n",
       "accidents_in_2016    739.5\n",
       "accidents_in_2017    785.0\n",
       "accidents_in_2018    762.5\n",
       "Rankin2018            18.5\n",
       "dtype: float64"
      ]
     },
     "execution_count": 67,
     "metadata": {},
     "output_type": "execute_result"
    }
   ],
   "source": [
    "df10.median()"
   ]
  },
  {
   "cell_type": "code",
   "execution_count": 68,
   "metadata": {},
   "outputs": [
    {
     "data": {
      "image/png": "[encoded data removed]",
      "text/plain": [
       "<Figure size 432x288 with 5 Axes>"
      ]
     },
     "metadata": {
      "needs_background": "light"
     },
     "output_type": "display_data"
    }
   ],
   "source": [
    "plt.subplot(3,3,1)\n",
    "plt.hist('accidents_in_2015', data=df10)\n",
    "plt.title(\"Year 2015\")\n",
    "\n",
    "plt.subplot(3,3,2)\n",
    "plt.hist('accidents_in_2016', data = df10)\n",
    "plt.title(\"Year 2016\")\n",
    "\n",
    "plt.subplot(3,3,3)\n",
    "plt.hist('accidents_in_2017', data = df10)\n",
    "plt.title(\"Year 2017\")\n",
    "\n",
    "plt.subplot(3,3,4)\n",
    "plt.hist('accidents_in_2018', data = df10)\n",
    "plt.title(\"Year 2018\")\n",
    "\n",
    "plt.subplot(3,3,5)\n",
    "plt.hist('Rankin2018', data = df10)\n",
    "plt.title(\"Ranking in 2018\")\n",
    "\n",
    "plt.subplots_adjust(top = 0.99, bottom=0.01, hspace=1.5, wspace=0.4)\n",
    "plt.subplots_adjust(wspace = 1)\n",
    "\n",
    "plt.show()"
   ]
  },
  {
   "cell_type": "code",
   "execution_count": null,
   "metadata": {},
   "outputs": [],
   "source": []
  },
  {
   "cell_type": "code",
   "execution_count": null,
   "metadata": {},
   "outputs": [],
   "source": []
  }
 ],
 "metadata": {
  "kernelspec": {
   "display_name": "Python 3",
   "language": "python",
   "name": "python3"
  },
  "language_info": {
   "codemirror_mode": {
    "name": "ipython",
    "version": 3
   },
   "file_extension": ".py",
   "mimetype": "text/x-python",
   "name": "python",
   "nbconvert_exporter": "python",
   "pygments_lexer": "ipython3",
   "version": "3.7.6"
  }
 },
 "nbformat": 4,
 "nbformat_minor": 4
}
